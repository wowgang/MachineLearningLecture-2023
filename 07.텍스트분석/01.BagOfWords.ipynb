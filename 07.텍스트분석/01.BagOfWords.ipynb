{
 "cells": [
  {
   "attachments": {},
   "cell_type": "markdown",
   "metadata": {},
   "source": [
    "### Bag of Words"
   ]
  },
  {
   "attachments": {},
   "cell_type": "markdown",
   "metadata": {},
   "source": [
    "##### 1.CountVectorizer"
   ]
  },
  {
   "cell_type": "code",
   "execution_count": 1,
   "metadata": {},
   "outputs": [],
   "source": [
    "text = 'My wife likes to watch baseball games and my daughter likes to watch baseball games too'"
   ]
  },
  {
   "cell_type": "code",
   "execution_count": 2,
   "metadata": {},
   "outputs": [
    {
     "data": {
      "text/plain": [
       "array([[1, 2, 1, 2, 2, 2, 2, 1, 2, 1]], dtype=int64)"
      ]
     },
     "execution_count": 2,
     "metadata": {},
     "output_type": "execute_result"
    }
   ],
   "source": [
    "from sklearn.feature_extraction.text import CountVectorizer \n",
    "# CountVectorizer는 각 문서에 어떤 단어가 몇 번 등장했는지를 파악할 때 사용합니다. 단어를 세서(count) 문서를 벡터화(vectorize)한다는 의미\n",
    "cvect = CountVectorizer()\n",
    "output = cvect.fit_transform([text])\n",
    "output.toarray() # 출력된 배열은 텍스트에 등장하는 각 단어의 등장 횟수"
   ]
  },
  {
   "cell_type": "code",
   "execution_count": 3,
   "metadata": {},
   "outputs": [
    {
     "data": {
      "text/plain": [
       "{'my': 5,\n",
       " 'wife': 9,\n",
       " 'likes': 4,\n",
       " 'to': 6,\n",
       " 'watch': 8,\n",
       " 'baseball': 1,\n",
       " 'games': 3,\n",
       " 'and': 0,\n",
       " 'daughter': 2,\n",
       " 'too': 7}"
      ]
     },
     "execution_count": 3,
     "metadata": {},
     "output_type": "execute_result"
    }
   ],
   "source": [
    "# end가 0으로 1번 들었다고 위에서 볼수있음.... 위 어레이의(가방속) 인덱스번호를 알려준것\n",
    "cvect.vocabulary_"
   ]
  },
  {
   "cell_type": "code",
   "execution_count": null,
   "metadata": {},
   "outputs": [],
   "source": [
    "# cvect.vocabulary_는 CountVectorizer 객체가 학습한 어휘 사전을 반환하는 속성입니다. \n",
    "# 어휘 사전은 단어를 키(key)로 가지고, 해당 단어의 인덱스를 값(value)으로 가지는 딕셔너리 형태\n",
    "# 이 속성을 사용하면 CountVectorizer 객체가 어떤 단어들을 어떤 인덱스에 할당했는지 확인할 수 있습니다. \n",
    "# 이를 통해 각 단어에 대한 고유한 식별자를 얻을 수 있으며, 이는 피처 벡터의 인덱스와도 대응됩니다.\n",
    "# 따라서 'my': 5 => 인덱스5 ,'and': 0 => 인덱스0\n",
    "# 위 array에서 대응할수있는것임 \n",
    "# 위 array에서 0번 인덱스는 end인거고 1번 등장했다는 의미"
   ]
  },
  {
   "attachments": {},
   "cell_type": "markdown",
   "metadata": {},
   "source": [
    "- 불용어(Stopwords)처리\n",
    "    -  예를 들면 \"the\", \"and\", \"to\" 등이 영어에서 자주 사용되는 불용어입니다. "
   ]
  },
  {
   "cell_type": "code",
   "execution_count": 4,
   "metadata": {},
   "outputs": [
    {
     "name": "stdout",
     "output_type": "stream",
     "text": [
      "[[2 1 2 2 1 2 1]]\n",
      "{'wife': 6, 'likes': 3, 'watch': 5, 'baseball': 0, 'games': 2, 'daughter': 1, 'too': 4}\n"
     ]
    }
   ],
   "source": [
    "# 직접 지정 \n",
    "my_stopwords = ['to','and','my']\n",
    "cvect = CountVectorizer(stop_words=my_stopwords)\n",
    "print(cvect.fit_transform([text]).toarray())\n",
    "print(cvect.vocabulary_)\n",
    "# 출력된 배열은 텍스트에 등장하는 각 단어의 등장 횟수\n",
    "# cvect.vocabulary_를 출력하면 각 단어가 어휘 사전에서 어떤 인덱스를 가지는지 확인할 수 있습니다. \n",
    "# 이를 통해 각 단어가 벡터 표현에서 어떤 위치에 해당하는지 알 수 있습니다"
   ]
  },
  {
   "cell_type": "code",
   "execution_count": 5,
   "metadata": {},
   "outputs": [
    {
     "name": "stdout",
     "output_type": "stream",
     "text": [
      "[[2 1 2 2 2 1]]\n",
      "{'wife': 5, 'likes': 3, 'watch': 4, 'baseball': 0, 'games': 2, 'daughter': 1}\n"
     ]
    }
   ],
   "source": [
    "# Scikit-Learn에서 제공하는 불용어 사용\n",
    "cvect = CountVectorizer(stop_words='english')\n",
    "print(cvect.fit_transform([text]).toarray())\n",
    "print(cvect.vocabulary_)"
   ]
  },
  {
   "cell_type": "code",
   "execution_count": 6,
   "metadata": {},
   "outputs": [
    {
     "name": "stdout",
     "output_type": "stream",
     "text": [
      "[[2 1 2 2 2 1]]\n",
      "{'wife': 5, 'likes': 3, 'watch': 4, 'baseball': 0, 'games': 2, 'daughter': 1}\n"
     ]
    }
   ],
   "source": [
    "# NLTK 에서 제공하는 불용어 사용\n",
    "from nltk.corpus import stopwords \n",
    "sw = stopwords.words('english')\n",
    "cvect = CountVectorizer(stop_words=sw)\n",
    "print(cvect.fit_transform([text]).toarray())\n",
    "print(cvect.vocabulary_)"
   ]
  },
  {
   "attachments": {},
   "cell_type": "markdown",
   "metadata": {},
   "source": [
    "- 인덱스에 해당하는 단어를 알려주는 함수"
   ]
  },
  {
   "cell_type": "code",
   "execution_count": 7,
   "metadata": {},
   "outputs": [
    {
     "name": "stdout",
     "output_type": "stream",
     "text": [
      "wife 5\n",
      "likes 3\n",
      "watch 4\n",
      "baseball 0\n",
      "games 2\n",
      "daughter 1\n"
     ]
    }
   ],
   "source": [
    "voca = cvect.vocabulary_ # 딕셔너리\n",
    "for key, value in voca.items():\n",
    "    print(key,value)"
   ]
  },
  {
   "cell_type": "code",
   "execution_count": 8,
   "metadata": {},
   "outputs": [
    {
     "data": {
      "text/plain": [
       "'watch'"
      ]
     },
     "execution_count": 8,
     "metadata": {},
     "output_type": "execute_result"
    }
   ],
   "source": [
    "def get_word(index, voca):\n",
    "    for key, value in voca.items():\n",
    "        if value == index:\n",
    "            return key \n",
    "        \n",
    "get_word(4, cvect.vocabulary_) # 4번 위치 인덱스에 있는 단어는 뭐야"
   ]
  },
  {
   "attachments": {},
   "cell_type": "markdown",
   "metadata": {},
   "source": [
    "##### 2. TFIDF(Term Frequency - Inverse Document Frequency)\n",
    "- TF-IDF는 특정 문서에서의 단어의 상대적인 빈도와 전체 문서에서의 단어의 빈도에 따라 가중치를 계산합니다. \n",
    "- 따라서 TF-IDF로 벡터화된 결과는 각 단어의 중요도를 나타내는 값으로 해석"
   ]
  },
  {
   "cell_type": "code",
   "execution_count": 9,
   "metadata": {},
   "outputs": [],
   "source": [
    "text = ['My wife likes to watch baseball games and my daughter likes to watch baseball games too.',\n",
    "        'My wife likes to play baseball.']"
   ]
  },
  {
   "cell_type": "code",
   "execution_count": 10,
   "metadata": {},
   "outputs": [
    {
     "data": {
      "text/plain": [
       "array([[0.38649245, 0.27160082, 0.54320165, 0.38649245, 0.        ,\n",
       "        0.54320165, 0.19324622],\n",
       "       [0.44832087, 0.        , 0.        , 0.44832087, 0.63009934,\n",
       "        0.        , 0.44832087]])"
      ]
     },
     "execution_count": 10,
     "metadata": {},
     "output_type": "execute_result"
    }
   ],
   "source": [
    "from sklearn.feature_extraction.text import TfidfVectorizer \n",
    "tvect = TfidfVectorizer(stop_words='english')\n",
    "tvect.fit_transform(text).toarray()\n",
    "# 첫번째 문장에서는 가방 안에 단어를 몇 번 사용했는가 알려줌 = toarray()"
   ]
  },
  {
   "cell_type": "code",
   "execution_count": 11,
   "metadata": {},
   "outputs": [
    {
     "name": "stdout",
     "output_type": "stream",
     "text": [
      "{'wife': 6, 'likes': 3, 'watch': 5, 'baseball': 0, 'games': 2, 'daughter': 1, 'play': 4}\n"
     ]
    }
   ],
   "source": [
    "print(tvect.vocabulary_)"
   ]
  },
  {
   "cell_type": "code",
   "execution_count": 12,
   "metadata": {},
   "outputs": [
    {
     "name": "stdout",
     "output_type": "stream",
     "text": [
      "[[2 1 2 2 0 2 1]\n",
      " [1 0 0 1 1 0 1]]\n",
      "{'wife': 6, 'likes': 3, 'watch': 5, 'baseball': 0, 'games': 2, 'daughter': 1, 'play': 4}\n"
     ]
    }
   ],
   "source": [
    "cvect = CountVectorizer(stop_words='english')\n",
    "print(cvect.fit_transform(text).toarray())\n",
    "print(cvect.vocabulary_)"
   ]
  },
  {
   "attachments": {},
   "cell_type": "markdown",
   "metadata": {},
   "source": [
    "##### 3.N-gram"
   ]
  },
  {
   "cell_type": "code",
   "execution_count": 14,
   "metadata": {},
   "outputs": [
    {
     "name": "stdout",
     "output_type": "stream",
     "text": [
      "[[1 1 0 1]\n",
      " [1 0 1 1]]\n",
      "{'work': 3, 'at': 0, 'google': 1, 'goole': 2}\n"
     ]
    }
   ],
   "source": [
    "text = ['I work at google.', 'I goole at work.']\n",
    "cvect = CountVectorizer()\n",
    "print(cvect.fit_transform(text).toarray())\n",
    "print(cvect.vocabulary_)"
   ]
  },
  {
   "cell_type": "code",
   "execution_count": 15,
   "metadata": {},
   "outputs": [
    {
     "name": "stdout",
     "output_type": "stream",
     "text": [
      "[[1 1 0 1 0 0 1 1]\n",
      " [1 0 1 0 1 1 1 0]]\n",
      "{'work': 6, 'at': 0, 'google': 3, 'work at': 7, 'at google': 1, 'goole': 4, 'goole at': 5, 'at work': 2}\n"
     ]
    }
   ],
   "source": [
    "cvect = CountVectorizer(ngram_range=(1,2))  # 단어의 순서를 알려준다... 바이그램 / 단점은 단어의 개수가 많이 늘어남\n",
    "print(cvect.fit_transform(text).toarray())\n",
    "print(cvect.vocabulary_)"
   ]
  },
  {
   "attachments": {},
   "cell_type": "markdown",
   "metadata": {},
   "source": [
    "##### 4. Hyper Parameter"
   ]
  },
  {
   "cell_type": "code",
   "execution_count": 16,
   "metadata": {},
   "outputs": [
    {
     "data": {
      "text/plain": [
       "{'analyzer': 'word',\n",
       " 'binary': False,\n",
       " 'decode_error': 'strict',\n",
       " 'dtype': numpy.int64,\n",
       " 'encoding': 'utf-8',\n",
       " 'input': 'content',\n",
       " 'lowercase': True,\n",
       " 'max_df': 1.0,\n",
       " 'max_features': None,\n",
       " 'min_df': 1,\n",
       " 'ngram_range': (1, 2),\n",
       " 'preprocessor': None,\n",
       " 'stop_words': None,\n",
       " 'strip_accents': None,\n",
       " 'token_pattern': '(?u)\\\\b\\\\w\\\\w+\\\\b',\n",
       " 'tokenizer': None,\n",
       " 'vocabulary': None}"
      ]
     },
     "execution_count": 16,
     "metadata": {},
     "output_type": "execute_result"
    }
   ],
   "source": [
    "cvect.get_params()"
   ]
  },
  {
   "cell_type": "code",
   "execution_count": 17,
   "metadata": {},
   "outputs": [
    {
     "data": {
      "text/plain": [
       "{'analyzer': 'word',\n",
       " 'binary': False,\n",
       " 'decode_error': 'strict',\n",
       " 'dtype': numpy.float64,\n",
       " 'encoding': 'utf-8',\n",
       " 'input': 'content',\n",
       " 'lowercase': True,\n",
       " 'max_df': 1.0,\n",
       " 'max_features': None,\n",
       " 'min_df': 1,\n",
       " 'ngram_range': (1, 1),\n",
       " 'norm': 'l2',\n",
       " 'preprocessor': None,\n",
       " 'smooth_idf': True,\n",
       " 'stop_words': 'english',\n",
       " 'strip_accents': None,\n",
       " 'sublinear_tf': False,\n",
       " 'token_pattern': '(?u)\\\\b\\\\w\\\\w+\\\\b',\n",
       " 'tokenizer': None,\n",
       " 'use_idf': True,\n",
       " 'vocabulary': None}"
      ]
     },
     "execution_count": 17,
     "metadata": {},
     "output_type": "execute_result"
    }
   ],
   "source": [
    "tvect.get_params()"
   ]
  },
  {
   "cell_type": "code",
   "execution_count": null,
   "metadata": {},
   "outputs": [],
   "source": []
  }
 ],
 "metadata": {
  "kernelspec": {
   "display_name": "base",
   "language": "python",
   "name": "python3"
  },
  "language_info": {
   "codemirror_mode": {
    "name": "ipython",
    "version": 3
   },
   "file_extension": ".py",
   "mimetype": "text/x-python",
   "name": "python",
   "nbconvert_exporter": "python",
   "pygments_lexer": "ipython3",
   "version": "3.10.9"
  },
  "orig_nbformat": 4
 },
 "nbformat": 4,
 "nbformat_minor": 2
}
