{
 "cells": [
  {
   "cell_type": "code",
   "execution_count": 1,
   "metadata": {},
   "outputs": [],
   "source": [
    "import pandas as pd\n",
    "import seaborn as sns\n",
    "import json\n",
    "import os\n",
    "import glob\n",
    "import numpy as np"
   ]
  },
  {
   "cell_type": "code",
   "execution_count": 2,
   "metadata": {},
   "outputs": [],
   "source": [
    "folder_path = \"./data/\"\n",
    "df_new = pd.DataFrame()\n",
    "\n",
    "all_files = glob.glob(folder_path + \"/*.csv\")\n",
    "\n",
    "li = []\n",
    "\n",
    "for filename in all_files:\n",
    "    df = pd.read_csv(filename, index_col=None, header=0)\n",
    "    li.append(df)\n",
    "df_new_외국인_업종 = pd.concat(li, axis=0, ignore_index=True)"
   ]
  },
  {
   "cell_type": "code",
   "execution_count": 3,
   "metadata": {},
   "outputs": [
    {
     "data": {
      "text/html": [
       "<div>\n",
       "<style scoped>\n",
       "    .dataframe tbody tr th:only-of-type {\n",
       "        vertical-align: middle;\n",
       "    }\n",
       "\n",
       "    .dataframe tbody tr th {\n",
       "        vertical-align: top;\n",
       "    }\n",
       "\n",
       "    .dataframe thead th {\n",
       "        text-align: right;\n",
       "    }\n",
       "</style>\n",
       "<table border=\"1\" class=\"dataframe\">\n",
       "  <thead>\n",
       "    <tr style=\"text-align: right;\">\n",
       "      <th></th>\n",
       "      <th>기준년월</th>\n",
       "      <th>시도명</th>\n",
       "      <th>시군구명</th>\n",
       "      <th>국적명</th>\n",
       "      <th>업종분류명</th>\n",
       "      <th>사용금액</th>\n",
       "    </tr>\n",
       "  </thead>\n",
       "  <tbody>\n",
       "    <tr>\n",
       "      <th>0</th>\n",
       "      <td>2015-01</td>\n",
       "      <td>경기도</td>\n",
       "      <td>고양시 일산서구</td>\n",
       "      <td>홍콩</td>\n",
       "      <td>유통.편의점</td>\n",
       "      <td>40950</td>\n",
       "    </tr>\n",
       "    <tr>\n",
       "      <th>1</th>\n",
       "      <td>2015-01</td>\n",
       "      <td>경기도</td>\n",
       "      <td>오산시</td>\n",
       "      <td>영국</td>\n",
       "      <td>요식/유흥.커피전문점</td>\n",
       "      <td>14500</td>\n",
       "    </tr>\n",
       "    <tr>\n",
       "      <th>2</th>\n",
       "      <td>2015-01</td>\n",
       "      <td>경기도</td>\n",
       "      <td>광명시</td>\n",
       "      <td>몽고</td>\n",
       "      <td>유통.생활잡화</td>\n",
       "      <td>2740000</td>\n",
       "    </tr>\n",
       "    <tr>\n",
       "      <th>3</th>\n",
       "      <td>2015-01</td>\n",
       "      <td>경기도</td>\n",
       "      <td>성남시 중원구</td>\n",
       "      <td>아제르바이잔</td>\n",
       "      <td>의류/잡화.남.여기성복</td>\n",
       "      <td>1429800</td>\n",
       "    </tr>\n",
       "    <tr>\n",
       "      <th>4</th>\n",
       "      <td>2015-01</td>\n",
       "      <td>경기도</td>\n",
       "      <td>성남시 분당구</td>\n",
       "      <td>캐나다</td>\n",
       "      <td>요식/유흥.한식</td>\n",
       "      <td>5336500</td>\n",
       "    </tr>\n",
       "  </tbody>\n",
       "</table>\n",
       "</div>"
      ],
      "text/plain": [
       "      기준년월  시도명      시군구명     국적명         업종분류명     사용금액\n",
       "0  2015-01  경기도  고양시 일산서구      홍콩        유통.편의점    40950\n",
       "1  2015-01  경기도       오산시      영국   요식/유흥.커피전문점    14500\n",
       "2  2015-01  경기도       광명시      몽고       유통.생활잡화  2740000\n",
       "3  2015-01  경기도   성남시 중원구  아제르바이잔  의류/잡화.남.여기성복  1429800\n",
       "4  2015-01  경기도   성남시 분당구     캐나다      요식/유흥.한식  5336500"
      ]
     },
     "execution_count": 3,
     "metadata": {},
     "output_type": "execute_result"
    }
   ],
   "source": [
    "df_new_외국인_업종.head()"
   ]
  },
  {
   "attachments": {},
   "cell_type": "markdown",
   "metadata": {},
   "source": [
    "> 시군구명 "
   ]
  },
  {
   "cell_type": "code",
   "execution_count": 4,
   "metadata": {},
   "outputs": [
    {
     "data": {
      "text/plain": [
       "'고양시'"
      ]
     },
     "execution_count": 4,
     "metadata": {},
     "output_type": "execute_result"
    }
   ],
   "source": [
    "b = []\n",
    "for name in list(df_new_외국인_업종.시군구명):\n",
    "    b.append(name.split()[0])\n",
    "b[0]"
   ]
  },
  {
   "cell_type": "code",
   "execution_count": 5,
   "metadata": {},
   "outputs": [
    {
     "data": {
      "text/html": [
       "<div>\n",
       "<style scoped>\n",
       "    .dataframe tbody tr th:only-of-type {\n",
       "        vertical-align: middle;\n",
       "    }\n",
       "\n",
       "    .dataframe tbody tr th {\n",
       "        vertical-align: top;\n",
       "    }\n",
       "\n",
       "    .dataframe thead th {\n",
       "        text-align: right;\n",
       "    }\n",
       "</style>\n",
       "<table border=\"1\" class=\"dataframe\">\n",
       "  <thead>\n",
       "    <tr style=\"text-align: right;\">\n",
       "      <th></th>\n",
       "      <th>기준년월</th>\n",
       "      <th>시도명</th>\n",
       "      <th>시군구명</th>\n",
       "      <th>국적명</th>\n",
       "      <th>업종분류명</th>\n",
       "      <th>사용금액</th>\n",
       "      <th>시군구명_new</th>\n",
       "    </tr>\n",
       "  </thead>\n",
       "  <tbody>\n",
       "    <tr>\n",
       "      <th>0</th>\n",
       "      <td>2015-01</td>\n",
       "      <td>경기도</td>\n",
       "      <td>고양시 일산서구</td>\n",
       "      <td>홍콩</td>\n",
       "      <td>유통.편의점</td>\n",
       "      <td>40950</td>\n",
       "      <td>고양시</td>\n",
       "    </tr>\n",
       "  </tbody>\n",
       "</table>\n",
       "</div>"
      ],
      "text/plain": [
       "      기준년월  시도명      시군구명 국적명   업종분류명   사용금액 시군구명_new\n",
       "0  2015-01  경기도  고양시 일산서구  홍콩  유통.편의점  40950      고양시"
      ]
     },
     "execution_count": 5,
     "metadata": {},
     "output_type": "execute_result"
    }
   ],
   "source": [
    "df_new_외국인_업종['시군구명_new'] = [name.split()[0] for name in list(df_new_외국인_업종.시군구명)]\n",
    "df_new_외국인_업종.head(1)"
   ]
  },
  {
   "attachments": {},
   "cell_type": "markdown",
   "metadata": {},
   "source": [
    ">업종대분류,소분류"
   ]
  },
  {
   "cell_type": "code",
   "execution_count": null,
   "metadata": {},
   "outputs": [],
   "source": [
    "# 의류/잡화.남.여기성복"
   ]
  },
  {
   "cell_type": "code",
   "execution_count": 6,
   "metadata": {},
   "outputs": [
    {
     "data": {
      "text/plain": [
       "'요식/유흥.한식'"
      ]
     },
     "execution_count": 6,
     "metadata": {},
     "output_type": "execute_result"
    }
   ],
   "source": [
    "list(df_new_외국인_업종.업종분류명)[4]"
   ]
  },
  {
   "cell_type": "code",
   "execution_count": 8,
   "metadata": {},
   "outputs": [
    {
     "data": {
      "text/plain": [
       "'한식'"
      ]
     },
     "execution_count": 8,
     "metadata": {},
     "output_type": "execute_result"
    }
   ],
   "source": [
    "a = []\n",
    "for name in list(df_new_외국인_업종.업종분류명):\n",
    "    a.append(name.split(\".\")[1])\n",
    "a[4]"
   ]
  },
  {
   "cell_type": "code",
   "execution_count": 9,
   "metadata": {},
   "outputs": [
    {
     "data": {
      "text/html": [
       "<div>\n",
       "<style scoped>\n",
       "    .dataframe tbody tr th:only-of-type {\n",
       "        vertical-align: middle;\n",
       "    }\n",
       "\n",
       "    .dataframe tbody tr th {\n",
       "        vertical-align: top;\n",
       "    }\n",
       "\n",
       "    .dataframe thead th {\n",
       "        text-align: right;\n",
       "    }\n",
       "</style>\n",
       "<table border=\"1\" class=\"dataframe\">\n",
       "  <thead>\n",
       "    <tr style=\"text-align: right;\">\n",
       "      <th></th>\n",
       "      <th>기준년월</th>\n",
       "      <th>시도명</th>\n",
       "      <th>시군구명</th>\n",
       "      <th>국적명</th>\n",
       "      <th>업종분류명</th>\n",
       "      <th>사용금액</th>\n",
       "      <th>시군구명_new</th>\n",
       "      <th>업종대분류</th>\n",
       "      <th>업종소분류</th>\n",
       "    </tr>\n",
       "  </thead>\n",
       "  <tbody>\n",
       "    <tr>\n",
       "      <th>0</th>\n",
       "      <td>2015-01</td>\n",
       "      <td>경기도</td>\n",
       "      <td>고양시 일산서구</td>\n",
       "      <td>홍콩</td>\n",
       "      <td>유통.편의점</td>\n",
       "      <td>40950</td>\n",
       "      <td>고양시</td>\n",
       "      <td>유통</td>\n",
       "      <td>편의점</td>\n",
       "    </tr>\n",
       "    <tr>\n",
       "      <th>1</th>\n",
       "      <td>2015-01</td>\n",
       "      <td>경기도</td>\n",
       "      <td>오산시</td>\n",
       "      <td>영국</td>\n",
       "      <td>요식/유흥.커피전문점</td>\n",
       "      <td>14500</td>\n",
       "      <td>오산시</td>\n",
       "      <td>요식/유흥</td>\n",
       "      <td>커피전문점</td>\n",
       "    </tr>\n",
       "    <tr>\n",
       "      <th>2</th>\n",
       "      <td>2015-01</td>\n",
       "      <td>경기도</td>\n",
       "      <td>광명시</td>\n",
       "      <td>몽고</td>\n",
       "      <td>유통.생활잡화</td>\n",
       "      <td>2740000</td>\n",
       "      <td>광명시</td>\n",
       "      <td>유통</td>\n",
       "      <td>생활잡화</td>\n",
       "    </tr>\n",
       "    <tr>\n",
       "      <th>3</th>\n",
       "      <td>2015-01</td>\n",
       "      <td>경기도</td>\n",
       "      <td>성남시 중원구</td>\n",
       "      <td>아제르바이잔</td>\n",
       "      <td>의류/잡화.남.여기성복</td>\n",
       "      <td>1429800</td>\n",
       "      <td>성남시</td>\n",
       "      <td>의류/잡화</td>\n",
       "      <td>남</td>\n",
       "    </tr>\n",
       "    <tr>\n",
       "      <th>4</th>\n",
       "      <td>2015-01</td>\n",
       "      <td>경기도</td>\n",
       "      <td>성남시 분당구</td>\n",
       "      <td>캐나다</td>\n",
       "      <td>요식/유흥.한식</td>\n",
       "      <td>5336500</td>\n",
       "      <td>성남시</td>\n",
       "      <td>요식/유흥</td>\n",
       "      <td>한식</td>\n",
       "    </tr>\n",
       "  </tbody>\n",
       "</table>\n",
       "</div>"
      ],
      "text/plain": [
       "      기준년월  시도명      시군구명     국적명         업종분류명     사용금액 시군구명_new  업종대분류   \n",
       "0  2015-01  경기도  고양시 일산서구      홍콩        유통.편의점    40950      고양시     유통  \\\n",
       "1  2015-01  경기도       오산시      영국   요식/유흥.커피전문점    14500      오산시  요식/유흥   \n",
       "2  2015-01  경기도       광명시      몽고       유통.생활잡화  2740000      광명시     유통   \n",
       "3  2015-01  경기도   성남시 중원구  아제르바이잔  의류/잡화.남.여기성복  1429800      성남시  의류/잡화   \n",
       "4  2015-01  경기도   성남시 분당구     캐나다      요식/유흥.한식  5336500      성남시  요식/유흥   \n",
       "\n",
       "   업종소분류  \n",
       "0    편의점  \n",
       "1  커피전문점  \n",
       "2   생활잡화  \n",
       "3      남  \n",
       "4     한식  "
      ]
     },
     "execution_count": 9,
     "metadata": {},
     "output_type": "execute_result"
    }
   ],
   "source": [
    "df_new_외국인_업종['업종대분류'] = [name.split(\".\")[0] for name in list(df_new_외국인_업종.업종분류명)]\n",
    "df_new_외국인_업종['업종소분류'] = [name.split(\".\")[1] for name in list(df_new_외국인_업종.업종분류명)]\n",
    "df_new_외국인_업종.head(5)"
   ]
  },
  {
   "cell_type": "code",
   "execution_count": 10,
   "metadata": {},
   "outputs": [
    {
     "data": {
      "text/plain": [
       "['의류/잡화', '남', '여기성복']"
      ]
     },
     "execution_count": 10,
     "metadata": {},
     "output_type": "execute_result"
    }
   ],
   "source": [
    "list(df_new_외국인_업종.업종분류명)[3].split(\".\")"
   ]
  },
  {
   "cell_type": "code",
   "execution_count": null,
   "metadata": {},
   "outputs": [],
   "source": [
    "# np.where(조건, 참인 경우 값, 거짓인 경우 값)\n",
    "# df_new_외국인_업종['업종소분류']의 값이 \"남\"인 경우에는 \"남/여기성복\"으로 값을 바꾸고, 그 외의 경우에는 원래의 값 그대로를 반환"
   ]
  },
  {
   "cell_type": "code",
   "execution_count": null,
   "metadata": {},
   "outputs": [],
   "source": [
    "df_new_외국인_업종['업종소분류'] = np.where(df_new_외국인_업종['업종소분류'] == '남', \"남/여기성복\", df_new_외국인_업종['업종소분류'])"
   ]
  }
 ],
 "metadata": {
  "kernelspec": {
   "display_name": "base",
   "language": "python",
   "name": "python3"
  },
  "language_info": {
   "codemirror_mode": {
    "name": "ipython",
    "version": 3
   },
   "file_extension": ".py",
   "mimetype": "text/x-python",
   "name": "python",
   "nbconvert_exporter": "python",
   "pygments_lexer": "ipython3",
   "version": "3.10.9"
  },
  "orig_nbformat": 4
 },
 "nbformat": 4,
 "nbformat_minor": 2
}
