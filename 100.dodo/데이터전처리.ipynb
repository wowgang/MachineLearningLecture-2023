{
 "cells": [
  {
   "cell_type": "code",
   "execution_count": 1,
   "metadata": {},
   "outputs": [],
   "source": [
    "import pandas as pd\n",
    "import seaborn as sns\n",
    "import json\n",
    "import os\n",
    "import glob\n",
    "import numpy as np"
   ]
  },
  {
   "cell_type": "code",
   "execution_count": 2,
   "metadata": {},
   "outputs": [],
   "source": [
    "folder_path = \"./data/\"\n",
    "df_new = pd.DataFrame()\n",
    "\n",
    "all_files = glob.glob(folder_path + \"/*.csv\")\n",
    "\n",
    "li = []\n",
    "\n",
    "for filename in all_files:\n",
    "    df = pd.read_csv(filename, index_col=None, header=0)\n",
    "    li.append(df)\n",
    "df_new_외국인_업종 = pd.concat(li, axis=0, ignore_index=True)"
   ]
  },
  {
   "cell_type": "code",
   "execution_count": 3,
   "metadata": {},
   "outputs": [
    {
     "data": {
      "text/html": [
       "<div>\n",
       "<style scoped>\n",
       "    .dataframe tbody tr th:only-of-type {\n",
       "        vertical-align: middle;\n",
       "    }\n",
       "\n",
       "    .dataframe tbody tr th {\n",
       "        vertical-align: top;\n",
       "    }\n",
       "\n",
       "    .dataframe thead th {\n",
       "        text-align: right;\n",
       "    }\n",
       "</style>\n",
       "<table border=\"1\" class=\"dataframe\">\n",
       "  <thead>\n",
       "    <tr style=\"text-align: right;\">\n",
       "      <th></th>\n",
       "      <th>기준년월</th>\n",
       "      <th>시도명</th>\n",
       "      <th>시군구명</th>\n",
       "      <th>국적명</th>\n",
       "      <th>업종분류명</th>\n",
       "      <th>사용금액</th>\n",
       "    </tr>\n",
       "  </thead>\n",
       "  <tbody>\n",
       "    <tr>\n",
       "      <th>0</th>\n",
       "      <td>2015-01</td>\n",
       "      <td>경기도</td>\n",
       "      <td>고양시 일산서구</td>\n",
       "      <td>홍콩</td>\n",
       "      <td>유통.편의점</td>\n",
       "      <td>40950</td>\n",
       "    </tr>\n",
       "    <tr>\n",
       "      <th>1</th>\n",
       "      <td>2015-01</td>\n",
       "      <td>경기도</td>\n",
       "      <td>오산시</td>\n",
       "      <td>영국</td>\n",
       "      <td>요식/유흥.커피전문점</td>\n",
       "      <td>14500</td>\n",
       "    </tr>\n",
       "    <tr>\n",
       "      <th>2</th>\n",
       "      <td>2015-01</td>\n",
       "      <td>경기도</td>\n",
       "      <td>광명시</td>\n",
       "      <td>몽고</td>\n",
       "      <td>유통.생활잡화</td>\n",
       "      <td>2740000</td>\n",
       "    </tr>\n",
       "    <tr>\n",
       "      <th>3</th>\n",
       "      <td>2015-01</td>\n",
       "      <td>경기도</td>\n",
       "      <td>성남시 중원구</td>\n",
       "      <td>아제르바이잔</td>\n",
       "      <td>의류/잡화.남.여기성복</td>\n",
       "      <td>1429800</td>\n",
       "    </tr>\n",
       "    <tr>\n",
       "      <th>4</th>\n",
       "      <td>2015-01</td>\n",
       "      <td>경기도</td>\n",
       "      <td>성남시 분당구</td>\n",
       "      <td>캐나다</td>\n",
       "      <td>요식/유흥.한식</td>\n",
       "      <td>5336500</td>\n",
       "    </tr>\n",
       "  </tbody>\n",
       "</table>\n",
       "</div>"
      ],
      "text/plain": [
       "      기준년월  시도명      시군구명     국적명         업종분류명     사용금액\n",
       "0  2015-01  경기도  고양시 일산서구      홍콩        유통.편의점    40950\n",
       "1  2015-01  경기도       오산시      영국   요식/유흥.커피전문점    14500\n",
       "2  2015-01  경기도       광명시      몽고       유통.생활잡화  2740000\n",
       "3  2015-01  경기도   성남시 중원구  아제르바이잔  의류/잡화.남.여기성복  1429800\n",
       "4  2015-01  경기도   성남시 분당구     캐나다      요식/유흥.한식  5336500"
      ]
     },
     "execution_count": 3,
     "metadata": {},
     "output_type": "execute_result"
    }
   ],
   "source": [
    "df_new_외국인_업종.head()"
   ]
  },
  {
   "attachments": {},
   "cell_type": "markdown",
   "metadata": {},
   "source": [
    "> 시군구명 "
   ]
  },
  {
   "cell_type": "code",
   "execution_count": 4,
   "metadata": {},
   "outputs": [
    {
     "data": {
      "text/plain": [
       "'고양시'"
      ]
     },
     "execution_count": 4,
     "metadata": {},
     "output_type": "execute_result"
    }
   ],
   "source": [
    "b = []\n",
    "for name in list(df_new_외국인_업종.시군구명):\n",
    "    b.append(name.split()[0])\n",
    "b[0]"
   ]
  },
  {
   "cell_type": "code",
   "execution_count": 5,
   "metadata": {},
   "outputs": [
    {
     "data": {
      "text/html": [
       "<div>\n",
       "<style scoped>\n",
       "    .dataframe tbody tr th:only-of-type {\n",
       "        vertical-align: middle;\n",
       "    }\n",
       "\n",
       "    .dataframe tbody tr th {\n",
       "        vertical-align: top;\n",
       "    }\n",
       "\n",
       "    .dataframe thead th {\n",
       "        text-align: right;\n",
       "    }\n",
       "</style>\n",
       "<table border=\"1\" class=\"dataframe\">\n",
       "  <thead>\n",
       "    <tr style=\"text-align: right;\">\n",
       "      <th></th>\n",
       "      <th>기준년월</th>\n",
       "      <th>시도명</th>\n",
       "      <th>시군구명</th>\n",
       "      <th>국적명</th>\n",
       "      <th>업종분류명</th>\n",
       "      <th>사용금액</th>\n",
       "      <th>시군구명_new</th>\n",
       "    </tr>\n",
       "  </thead>\n",
       "  <tbody>\n",
       "    <tr>\n",
       "      <th>0</th>\n",
       "      <td>2015-01</td>\n",
       "      <td>경기도</td>\n",
       "      <td>고양시 일산서구</td>\n",
       "      <td>홍콩</td>\n",
       "      <td>유통.편의점</td>\n",
       "      <td>40950</td>\n",
       "      <td>고양시</td>\n",
       "    </tr>\n",
       "  </tbody>\n",
       "</table>\n",
       "</div>"
      ],
      "text/plain": [
       "      기준년월  시도명      시군구명 국적명   업종분류명   사용금액 시군구명_new\n",
       "0  2015-01  경기도  고양시 일산서구  홍콩  유통.편의점  40950      고양시"
      ]
     },
     "execution_count": 5,
     "metadata": {},
     "output_type": "execute_result"
    }
   ],
   "source": [
    "df_new_외국인_업종['시군구명_new'] = [name.split()[0] for name in list(df_new_외국인_업종.시군구명)]\n",
    "df_new_외국인_업종.head(1)"
   ]
  },
  {
   "attachments": {},
   "cell_type": "markdown",
   "metadata": {},
   "source": [
    ">업종대분류,소분류"
   ]
  },
  {
   "cell_type": "code",
   "execution_count": 7,
   "metadata": {},
   "outputs": [],
   "source": [
    "# 의류/잡화.남.여기성복"
   ]
  },
  {
   "cell_type": "code",
   "execution_count": 6,
   "metadata": {},
   "outputs": [
    {
     "data": {
      "text/plain": [
       "'요식/유흥.한식'"
      ]
     },
     "execution_count": 6,
     "metadata": {},
     "output_type": "execute_result"
    }
   ],
   "source": [
    "list(df_new_외국인_업종.업종분류명)[4]"
   ]
  },
  {
   "cell_type": "code",
   "execution_count": 7,
   "metadata": {},
   "outputs": [
    {
     "data": {
      "text/plain": [
       "'한식'"
      ]
     },
     "execution_count": 7,
     "metadata": {},
     "output_type": "execute_result"
    }
   ],
   "source": [
    "a = []\n",
    "for name in list(df_new_외국인_업종.업종분류명):\n",
    "    a.append(name.split(\".\")[1])\n",
    "a[4]"
   ]
  },
  {
   "cell_type": "code",
   "execution_count": 8,
   "metadata": {},
   "outputs": [
    {
     "data": {
      "text/html": [
       "<div>\n",
       "<style scoped>\n",
       "    .dataframe tbody tr th:only-of-type {\n",
       "        vertical-align: middle;\n",
       "    }\n",
       "\n",
       "    .dataframe tbody tr th {\n",
       "        vertical-align: top;\n",
       "    }\n",
       "\n",
       "    .dataframe thead th {\n",
       "        text-align: right;\n",
       "    }\n",
       "</style>\n",
       "<table border=\"1\" class=\"dataframe\">\n",
       "  <thead>\n",
       "    <tr style=\"text-align: right;\">\n",
       "      <th></th>\n",
       "      <th>기준년월</th>\n",
       "      <th>시도명</th>\n",
       "      <th>시군구명</th>\n",
       "      <th>국적명</th>\n",
       "      <th>업종분류명</th>\n",
       "      <th>사용금액</th>\n",
       "      <th>시군구명_new</th>\n",
       "      <th>업종대분류</th>\n",
       "      <th>업종소분류</th>\n",
       "    </tr>\n",
       "  </thead>\n",
       "  <tbody>\n",
       "    <tr>\n",
       "      <th>0</th>\n",
       "      <td>2015-01</td>\n",
       "      <td>경기도</td>\n",
       "      <td>고양시 일산서구</td>\n",
       "      <td>홍콩</td>\n",
       "      <td>유통.편의점</td>\n",
       "      <td>40950</td>\n",
       "      <td>고양시</td>\n",
       "      <td>유통</td>\n",
       "      <td>편의점</td>\n",
       "    </tr>\n",
       "    <tr>\n",
       "      <th>1</th>\n",
       "      <td>2015-01</td>\n",
       "      <td>경기도</td>\n",
       "      <td>오산시</td>\n",
       "      <td>영국</td>\n",
       "      <td>요식/유흥.커피전문점</td>\n",
       "      <td>14500</td>\n",
       "      <td>오산시</td>\n",
       "      <td>요식/유흥</td>\n",
       "      <td>커피전문점</td>\n",
       "    </tr>\n",
       "    <tr>\n",
       "      <th>2</th>\n",
       "      <td>2015-01</td>\n",
       "      <td>경기도</td>\n",
       "      <td>광명시</td>\n",
       "      <td>몽고</td>\n",
       "      <td>유통.생활잡화</td>\n",
       "      <td>2740000</td>\n",
       "      <td>광명시</td>\n",
       "      <td>유통</td>\n",
       "      <td>생활잡화</td>\n",
       "    </tr>\n",
       "    <tr>\n",
       "      <th>3</th>\n",
       "      <td>2015-01</td>\n",
       "      <td>경기도</td>\n",
       "      <td>성남시 중원구</td>\n",
       "      <td>아제르바이잔</td>\n",
       "      <td>의류/잡화.남.여기성복</td>\n",
       "      <td>1429800</td>\n",
       "      <td>성남시</td>\n",
       "      <td>의류/잡화</td>\n",
       "      <td>남</td>\n",
       "    </tr>\n",
       "    <tr>\n",
       "      <th>4</th>\n",
       "      <td>2015-01</td>\n",
       "      <td>경기도</td>\n",
       "      <td>성남시 분당구</td>\n",
       "      <td>캐나다</td>\n",
       "      <td>요식/유흥.한식</td>\n",
       "      <td>5336500</td>\n",
       "      <td>성남시</td>\n",
       "      <td>요식/유흥</td>\n",
       "      <td>한식</td>\n",
       "    </tr>\n",
       "  </tbody>\n",
       "</table>\n",
       "</div>"
      ],
      "text/plain": [
       "      기준년월  시도명      시군구명     국적명         업종분류명     사용금액 시군구명_new  업종대분류   \n",
       "0  2015-01  경기도  고양시 일산서구      홍콩        유통.편의점    40950      고양시     유통  \\\n",
       "1  2015-01  경기도       오산시      영국   요식/유흥.커피전문점    14500      오산시  요식/유흥   \n",
       "2  2015-01  경기도       광명시      몽고       유통.생활잡화  2740000      광명시     유통   \n",
       "3  2015-01  경기도   성남시 중원구  아제르바이잔  의류/잡화.남.여기성복  1429800      성남시  의류/잡화   \n",
       "4  2015-01  경기도   성남시 분당구     캐나다      요식/유흥.한식  5336500      성남시  요식/유흥   \n",
       "\n",
       "   업종소분류  \n",
       "0    편의점  \n",
       "1  커피전문점  \n",
       "2   생활잡화  \n",
       "3      남  \n",
       "4     한식  "
      ]
     },
     "execution_count": 8,
     "metadata": {},
     "output_type": "execute_result"
    }
   ],
   "source": [
    "df_new_외국인_업종['업종대분류'] = [name.split(\".\")[0] for name in list(df_new_외국인_업종.업종분류명)]\n",
    "df_new_외국인_업종['업종소분류'] = [name.split(\".\")[1] for name in list(df_new_외국인_업종.업종분류명)]\n",
    "df_new_외국인_업종.head(5)"
   ]
  },
  {
   "cell_type": "code",
   "execution_count": 9,
   "metadata": {},
   "outputs": [
    {
     "data": {
      "text/plain": [
       "['의류/잡화', '남', '여기성복']"
      ]
     },
     "execution_count": 9,
     "metadata": {},
     "output_type": "execute_result"
    }
   ],
   "source": [
    "list(df_new_외국인_업종.업종분류명)[3].split(\".\")"
   ]
  },
  {
   "cell_type": "code",
   "execution_count": 10,
   "metadata": {},
   "outputs": [],
   "source": [
    "# np.where(조건, 참인 경우 값, 거짓인 경우 값)\n",
    "# df_new_외국인_업종['업종소분류']의 값이 \"남\"인 경우에는 \"남/여기성복\"으로 값을 바꾸고, 그 외의 경우에는 원래의 값 그대로를 반환\n",
    "df_new_외국인_업종['업종소분류'] = np.where(df_new_외국인_업종.업종소분류 == '남', \"남/여기성복\", df_new_외국인_업종.업종소분류)"
   ]
  },
  {
   "cell_type": "code",
   "execution_count": 11,
   "metadata": {},
   "outputs": [
    {
     "data": {
      "text/html": [
       "<div>\n",
       "<style scoped>\n",
       "    .dataframe tbody tr th:only-of-type {\n",
       "        vertical-align: middle;\n",
       "    }\n",
       "\n",
       "    .dataframe tbody tr th {\n",
       "        vertical-align: top;\n",
       "    }\n",
       "\n",
       "    .dataframe thead th {\n",
       "        text-align: right;\n",
       "    }\n",
       "</style>\n",
       "<table border=\"1\" class=\"dataframe\">\n",
       "  <thead>\n",
       "    <tr style=\"text-align: right;\">\n",
       "      <th></th>\n",
       "      <th>기준년월</th>\n",
       "      <th>시도명</th>\n",
       "      <th>시군구명</th>\n",
       "      <th>국적명</th>\n",
       "      <th>업종분류명</th>\n",
       "      <th>사용금액</th>\n",
       "      <th>시군구명_new</th>\n",
       "      <th>업종대분류</th>\n",
       "      <th>업종소분류</th>\n",
       "    </tr>\n",
       "  </thead>\n",
       "  <tbody>\n",
       "    <tr>\n",
       "      <th>0</th>\n",
       "      <td>2015-01</td>\n",
       "      <td>경기도</td>\n",
       "      <td>고양시 일산서구</td>\n",
       "      <td>홍콩</td>\n",
       "      <td>유통.편의점</td>\n",
       "      <td>40950</td>\n",
       "      <td>고양시</td>\n",
       "      <td>유통</td>\n",
       "      <td>편의점</td>\n",
       "    </tr>\n",
       "    <tr>\n",
       "      <th>1</th>\n",
       "      <td>2015-01</td>\n",
       "      <td>경기도</td>\n",
       "      <td>오산시</td>\n",
       "      <td>영국</td>\n",
       "      <td>요식/유흥.커피전문점</td>\n",
       "      <td>14500</td>\n",
       "      <td>오산시</td>\n",
       "      <td>요식/유흥</td>\n",
       "      <td>커피전문점</td>\n",
       "    </tr>\n",
       "    <tr>\n",
       "      <th>2</th>\n",
       "      <td>2015-01</td>\n",
       "      <td>경기도</td>\n",
       "      <td>광명시</td>\n",
       "      <td>몽고</td>\n",
       "      <td>유통.생활잡화</td>\n",
       "      <td>2740000</td>\n",
       "      <td>광명시</td>\n",
       "      <td>유통</td>\n",
       "      <td>생활잡화</td>\n",
       "    </tr>\n",
       "    <tr>\n",
       "      <th>3</th>\n",
       "      <td>2015-01</td>\n",
       "      <td>경기도</td>\n",
       "      <td>성남시 중원구</td>\n",
       "      <td>아제르바이잔</td>\n",
       "      <td>의류/잡화.남.여기성복</td>\n",
       "      <td>1429800</td>\n",
       "      <td>성남시</td>\n",
       "      <td>의류/잡화</td>\n",
       "      <td>남/여기성복</td>\n",
       "    </tr>\n",
       "    <tr>\n",
       "      <th>4</th>\n",
       "      <td>2015-01</td>\n",
       "      <td>경기도</td>\n",
       "      <td>성남시 분당구</td>\n",
       "      <td>캐나다</td>\n",
       "      <td>요식/유흥.한식</td>\n",
       "      <td>5336500</td>\n",
       "      <td>성남시</td>\n",
       "      <td>요식/유흥</td>\n",
       "      <td>한식</td>\n",
       "    </tr>\n",
       "    <tr>\n",
       "      <th>...</th>\n",
       "      <td>...</td>\n",
       "      <td>...</td>\n",
       "      <td>...</td>\n",
       "      <td>...</td>\n",
       "      <td>...</td>\n",
       "      <td>...</td>\n",
       "      <td>...</td>\n",
       "      <td>...</td>\n",
       "      <td>...</td>\n",
       "    </tr>\n",
       "    <tr>\n",
       "      <th>1003</th>\n",
       "      <td>2015-09</td>\n",
       "      <td>경기도</td>\n",
       "      <td>하남시</td>\n",
       "      <td>홍콩</td>\n",
       "      <td>요식/유흥.한식</td>\n",
       "      <td>599400</td>\n",
       "      <td>하남시</td>\n",
       "      <td>요식/유흥</td>\n",
       "      <td>한식</td>\n",
       "    </tr>\n",
       "    <tr>\n",
       "      <th>1004</th>\n",
       "      <td>2015-09</td>\n",
       "      <td>경기도</td>\n",
       "      <td>시흥시</td>\n",
       "      <td>중국</td>\n",
       "      <td>유통.할인점/슈퍼마켓</td>\n",
       "      <td>62748084</td>\n",
       "      <td>시흥시</td>\n",
       "      <td>유통</td>\n",
       "      <td>할인점/슈퍼마켓</td>\n",
       "    </tr>\n",
       "    <tr>\n",
       "      <th>1005</th>\n",
       "      <td>2015-09</td>\n",
       "      <td>경기도</td>\n",
       "      <td>포천시</td>\n",
       "      <td>미국</td>\n",
       "      <td>요식/유흥.단란주점</td>\n",
       "      <td>29900</td>\n",
       "      <td>포천시</td>\n",
       "      <td>요식/유흥</td>\n",
       "      <td>단란주점</td>\n",
       "    </tr>\n",
       "    <tr>\n",
       "      <th>1006</th>\n",
       "      <td>2015-09</td>\n",
       "      <td>경기도</td>\n",
       "      <td>가평군</td>\n",
       "      <td>스리랑카</td>\n",
       "      <td>요식/유흥.일반대중음식</td>\n",
       "      <td>42000</td>\n",
       "      <td>가평군</td>\n",
       "      <td>요식/유흥</td>\n",
       "      <td>일반대중음식</td>\n",
       "    </tr>\n",
       "    <tr>\n",
       "      <th>1007</th>\n",
       "      <td>2015-09</td>\n",
       "      <td>경기도</td>\n",
       "      <td>부천시</td>\n",
       "      <td>카자흐스탄</td>\n",
       "      <td>요식/유흥.한식</td>\n",
       "      <td>328800</td>\n",
       "      <td>부천시</td>\n",
       "      <td>요식/유흥</td>\n",
       "      <td>한식</td>\n",
       "    </tr>\n",
       "  </tbody>\n",
       "</table>\n",
       "<p>1008 rows × 9 columns</p>\n",
       "</div>"
      ],
      "text/plain": [
       "         기준년월  시도명      시군구명     국적명         업종분류명      사용금액 시군구명_new  업종대분류   \n",
       "0     2015-01  경기도  고양시 일산서구      홍콩        유통.편의점     40950      고양시     유통  \\\n",
       "1     2015-01  경기도       오산시      영국   요식/유흥.커피전문점     14500      오산시  요식/유흥   \n",
       "2     2015-01  경기도       광명시      몽고       유통.생활잡화   2740000      광명시     유통   \n",
       "3     2015-01  경기도   성남시 중원구  아제르바이잔  의류/잡화.남.여기성복   1429800      성남시  의류/잡화   \n",
       "4     2015-01  경기도   성남시 분당구     캐나다      요식/유흥.한식   5336500      성남시  요식/유흥   \n",
       "...       ...  ...       ...     ...           ...       ...      ...    ...   \n",
       "1003  2015-09  경기도       하남시      홍콩      요식/유흥.한식    599400      하남시  요식/유흥   \n",
       "1004  2015-09  경기도       시흥시      중국   유통.할인점/슈퍼마켓  62748084      시흥시     유통   \n",
       "1005  2015-09  경기도       포천시      미국    요식/유흥.단란주점     29900      포천시  요식/유흥   \n",
       "1006  2015-09  경기도       가평군    스리랑카  요식/유흥.일반대중음식     42000      가평군  요식/유흥   \n",
       "1007  2015-09  경기도       부천시   카자흐스탄      요식/유흥.한식    328800      부천시  요식/유흥   \n",
       "\n",
       "         업종소분류  \n",
       "0          편의점  \n",
       "1        커피전문점  \n",
       "2         생활잡화  \n",
       "3       남/여기성복  \n",
       "4           한식  \n",
       "...        ...  \n",
       "1003        한식  \n",
       "1004  할인점/슈퍼마켓  \n",
       "1005      단란주점  \n",
       "1006    일반대중음식  \n",
       "1007        한식  \n",
       "\n",
       "[1008 rows x 9 columns]"
      ]
     },
     "execution_count": 11,
     "metadata": {},
     "output_type": "execute_result"
    }
   ],
   "source": [
    "df_new_외국인_업종"
   ]
  },
  {
   "cell_type": "code",
   "execution_count": 31,
   "metadata": {},
   "outputs": [
    {
     "data": {
      "text/html": [
       "<div>\n",
       "<style scoped>\n",
       "    .dataframe tbody tr th:only-of-type {\n",
       "        vertical-align: middle;\n",
       "    }\n",
       "\n",
       "    .dataframe tbody tr th {\n",
       "        vertical-align: top;\n",
       "    }\n",
       "\n",
       "    .dataframe thead th {\n",
       "        text-align: right;\n",
       "    }\n",
       "</style>\n",
       "<table border=\"1\" class=\"dataframe\">\n",
       "  <thead>\n",
       "    <tr style=\"text-align: right;\">\n",
       "      <th></th>\n",
       "      <th>사용금액</th>\n",
       "    </tr>\n",
       "    <tr>\n",
       "      <th>기준년월</th>\n",
       "      <th></th>\n",
       "    </tr>\n",
       "  </thead>\n",
       "  <tbody>\n",
       "    <tr>\n",
       "      <th>2016-02</th>\n",
       "      <td>1073231914</td>\n",
       "    </tr>\n",
       "    <tr>\n",
       "      <th>2016-04</th>\n",
       "      <td>463186289</td>\n",
       "    </tr>\n",
       "    <tr>\n",
       "      <th>2015-04</th>\n",
       "      <td>369513421</td>\n",
       "    </tr>\n",
       "    <tr>\n",
       "      <th>2016-06</th>\n",
       "      <td>331427498</td>\n",
       "    </tr>\n",
       "    <tr>\n",
       "      <th>2015-02</th>\n",
       "      <td>234082232</td>\n",
       "    </tr>\n",
       "    <tr>\n",
       "      <th>2016-05</th>\n",
       "      <td>164499976</td>\n",
       "    </tr>\n",
       "    <tr>\n",
       "      <th>2015-06</th>\n",
       "      <td>163637770</td>\n",
       "    </tr>\n",
       "    <tr>\n",
       "      <th>2016-03</th>\n",
       "      <td>110348195</td>\n",
       "    </tr>\n",
       "    <tr>\n",
       "      <th>2016-12</th>\n",
       "      <td>88020075</td>\n",
       "    </tr>\n",
       "    <tr>\n",
       "      <th>2015-09</th>\n",
       "      <td>84194307</td>\n",
       "    </tr>\n",
       "    <tr>\n",
       "      <th>2016-09</th>\n",
       "      <td>60596646</td>\n",
       "    </tr>\n",
       "    <tr>\n",
       "      <th>2015-12</th>\n",
       "      <td>54105427</td>\n",
       "    </tr>\n",
       "    <tr>\n",
       "      <th>2016-01</th>\n",
       "      <td>45811078</td>\n",
       "    </tr>\n",
       "    <tr>\n",
       "      <th>2015-05</th>\n",
       "      <td>44349174</td>\n",
       "    </tr>\n",
       "    <tr>\n",
       "      <th>2016-11</th>\n",
       "      <td>43779204</td>\n",
       "    </tr>\n",
       "    <tr>\n",
       "      <th>2016-07</th>\n",
       "      <td>43360777</td>\n",
       "    </tr>\n",
       "    <tr>\n",
       "      <th>2015-01</th>\n",
       "      <td>39078310</td>\n",
       "    </tr>\n",
       "    <tr>\n",
       "      <th>2015-08</th>\n",
       "      <td>35749799</td>\n",
       "    </tr>\n",
       "    <tr>\n",
       "      <th>2015-10</th>\n",
       "      <td>30964489</td>\n",
       "    </tr>\n",
       "    <tr>\n",
       "      <th>2016-08</th>\n",
       "      <td>22936860</td>\n",
       "    </tr>\n",
       "    <tr>\n",
       "      <th>2016-10</th>\n",
       "      <td>22674780</td>\n",
       "    </tr>\n",
       "    <tr>\n",
       "      <th>2015-07</th>\n",
       "      <td>21408576</td>\n",
       "    </tr>\n",
       "    <tr>\n",
       "      <th>2015-11</th>\n",
       "      <td>20272111</td>\n",
       "    </tr>\n",
       "    <tr>\n",
       "      <th>2015-03</th>\n",
       "      <td>12540610</td>\n",
       "    </tr>\n",
       "  </tbody>\n",
       "</table>\n",
       "</div>"
      ],
      "text/plain": [
       "               사용금액\n",
       "기준년월               \n",
       "2016-02  1073231914\n",
       "2016-04   463186289\n",
       "2015-04   369513421\n",
       "2016-06   331427498\n",
       "2015-02   234082232\n",
       "2016-05   164499976\n",
       "2015-06   163637770\n",
       "2016-03   110348195\n",
       "2016-12    88020075\n",
       "2015-09    84194307\n",
       "2016-09    60596646\n",
       "2015-12    54105427\n",
       "2016-01    45811078\n",
       "2015-05    44349174\n",
       "2016-11    43779204\n",
       "2016-07    43360777\n",
       "2015-01    39078310\n",
       "2015-08    35749799\n",
       "2015-10    30964489\n",
       "2016-08    22936860\n",
       "2016-10    22674780\n",
       "2015-07    21408576\n",
       "2015-11    20272111\n",
       "2015-03    12540610"
      ]
     },
     "execution_count": 31,
     "metadata": {},
     "output_type": "execute_result"
    }
   ],
   "source": [
    "# 년월별 사용금액\n",
    "a = df_new_외국인_업종[['기준년월', '사용금액']].groupby('기준년월').sum()\n",
    "# a.sort_values(ascending=False) # 시리즈\n",
    "a.sort_values(by='사용금액', ascending=False) # 사용금액를 기준으로 내림차순정렬 데이터프레임"
   ]
  },
  {
   "cell_type": "code",
   "execution_count": 16,
   "metadata": {},
   "outputs": [],
   "source": [
    "# '추세(趨勢)'는 '어떤 현상이 일정한 방향으로 나아가는 경향'으로 돼 있고, \n",
    "# 추세(Trend)는 일련의 데이터 포인트에서 나타나는 장기적인 방향성이나 경향을 의미\n",
    "\n",
    "# '추이(推移)'는 '일이나 형편이 시간의 경과에 따라 변하여 나감. 또는 그런 경향'\n",
    "# 추이(Pattern)는 데이터의 짧은 기간 동안 나타나는 주기성이나 반복 패턴을 의미"
   ]
  },
  {
   "attachments": {},
   "cell_type": "markdown",
   "metadata": {},
   "source": [
    ">외국인 소비 금액 추이"
   ]
  },
  {
   "cell_type": "code",
   "execution_count": 24,
   "metadata": {},
   "outputs": [],
   "source": [
    "# matplotlib 설정하기\n",
    "import matplotlib.pyplot as plt\n",
    "\n",
    "plt.rc('font', family = 'Malgun Gothic')\n",
    "plt.rcParams['axes.unicode_minus'] = False\n",
    "plt.style.use(\"ggplot\")"
   ]
  },
  {
   "cell_type": "code",
   "execution_count": 28,
   "metadata": {},
   "outputs": [
    {
     "data": {
      "image/png": "[encoded data removed]",
      "text/plain": [
       "<Figure size 1000x300 with 1 Axes>"
      ]
     },
     "metadata": {},
     "output_type": "display_data"
    }
   ],
   "source": [
    "plt.figure(figsize=(10,3))\n",
    "plt.barh(a.index, a['사용금액'])\n",
    "plt.title('요일별 팁의 비율')\n",
    "plt.show()"
   ]
  },
  {
   "cell_type": "code",
   "execution_count": 35,
   "metadata": {},
   "outputs": [
    {
     "ename": "AttributeError",
     "evalue": "'Index' object has no attribute 'strftime'",
     "output_type": "error",
     "traceback": [
      "\u001b[1;31m---------------------------------------------------------------------------\u001b[0m",
      "\u001b[1;31mAttributeError\u001b[0m                            Traceback (most recent call last)",
      "Cell \u001b[1;32mIn[35], line 15\u001b[0m\n\u001b[0;32m     13\u001b[0m plt\u001b[39m.\u001b[39mtitle(\u001b[39m'\u001b[39m\u001b[39m외국인 소비금액 추이\u001b[39m\u001b[39m'\u001b[39m)\n\u001b[0;32m     14\u001b[0m plt\u001b[39m.\u001b[39mxticks(rotation\u001b[39m=\u001b[39m\u001b[39m45\u001b[39m)\n\u001b[1;32m---> 15\u001b[0m plt\u001b[39m.\u001b[39mgca()\u001b[39m.\u001b[39mxaxis\u001b[39m.\u001b[39mset_major_formatter(plt\u001b[39m.\u001b[39mFixedFormatter(df_sum\u001b[39m.\u001b[39;49mindex\u001b[39m.\u001b[39;49mstrftime(\u001b[39m'\u001b[39m\u001b[39m%\u001b[39m\u001b[39mY-\u001b[39m\u001b[39m%\u001b[39m\u001b[39mm\u001b[39m\u001b[39m'\u001b[39m)))\n\u001b[0;32m     16\u001b[0m plt\u001b[39m.\u001b[39mlegend()\n\u001b[0;32m     18\u001b[0m plt\u001b[39m.\u001b[39mshow()\n",
      "\u001b[1;31mAttributeError\u001b[0m: 'Index' object has no attribute 'strftime'"
     ]
    },
    {
     "data": {
      "image/png": "[encoded data removed]",
      "text/plain": [
       "<Figure size 1000x600 with 1 Axes>"
      ]
     },
     "metadata": {},
     "output_type": "display_data"
    }
   ],
   "source": [
    "import pandas as pd\n",
    "import matplotlib.pyplot as plt\n",
    "\n",
    "# df_sum = df_new_외국인_업종.groupby('기준년월').sum()\n",
    "df_sum = df_new_외국인_업종[['기준년월', '사용금액']].groupby('기준년월').sum()\n",
    "\n",
    "plt.figure(figsize=(10, 6))\n",
    "plt.plot(df_sum.index, df_sum['사용금액'], marker='o', color='orange', label='Lines+Markers')\n",
    "plt.bar(df_sum.index, df_sum['사용금액'], label='Bar')\n",
    "\n",
    "plt.xlabel('기준년월')\n",
    "plt.ylabel('소비금액')\n",
    "plt.title('외국인 소비금액 추이')\n",
    "plt.xticks(rotation=45)\n",
    "plt.gca().xaxis.set_major_formatter(plt.FixedFormatter(df_sum.index.strftime('%Y-%m')))\n",
    "plt.legend()\n",
    "\n",
    "plt.show()\n"
   ]
  },
  {
   "cell_type": "code",
   "execution_count": 36,
   "metadata": {},
   "outputs": [
    {
     "name": "stderr",
     "output_type": "stream",
     "text": [
      "C:\\Users\\YONSAI\\AppData\\Local\\Temp\\ipykernel_8356\\172828074.py:14: UserWarning: FixedFormatter should only be used together with FixedLocator\n",
      "  plt.gca().xaxis.set_major_formatter(plt.FixedFormatter(df_sum.index.strftime('%Y-%m')))\n"
     ]
    },
    {
     "data": {
      "image/png": "[encoded data removed]",
      "text/plain": [
       "<Figure size 1000x600 with 1 Axes>"
      ]
     },
     "metadata": {},
     "output_type": "display_data"
    }
   ],
   "source": [
    "df_sum = df_new_외국인_업종.groupby('기준년월').sum()\n",
    "# df_sum = df_new_외국인_업종[['기준년월', '사용금액']].groupby('기준년월').sum()\n",
    "\n",
    "df_sum.index = pd.to_datetime(df_sum.index)\n",
    "\n",
    "plt.figure(figsize=(10, 6))\n",
    "plt.plot(df_sum.index, df_sum['사용금액'], marker='o', color='orange', label='Lines+Markers')\n",
    "plt.bar(df_sum.index, df_sum['사용금액'], label='Bar')\n",
    "\n",
    "plt.xlabel('기준년월')\n",
    "plt.ylabel('소비금액')\n",
    "plt.title('외국인 소비금액 추이')\n",
    "plt.xticks(rotation=45)\n",
    "plt.gca().xaxis.set_major_formatter(plt.FixedFormatter(df_sum.index.strftime('%Y-%m')))\n",
    "plt.legend()\n",
    "\n",
    "plt.show()"
   ]
  },
  {
   "cell_type": "code",
   "execution_count": 26,
   "metadata": {},
   "outputs": [
    {
     "data": {
      "image/png": "[encoded data removed]",
      "text/plain": [
       "<Figure size 640x480 with 1 Axes>"
      ]
     },
     "metadata": {},
     "output_type": "display_data"
    }
   ],
   "source": [
    "# 다양한 컬러 막대그래프 bar chart\n",
    "\n",
    "\n",
    "fruits = ['apple', 'blueberry', 'cherry', 'orange']\n",
    "counts = [40, 100, 30, 55]\n",
    "bar_labels = ['red', 'blue', '_red', 'orange']\n",
    "bar_colors = ['tab:red', 'tab:blue', 'tab:red', 'tab:orange'] # color\n",
    "\n",
    "plt.bar(fruits, counts, label=bar_labels, color=bar_colors) # 모든 ex를 plt로 바꿔줌\n",
    "\n",
    "plt.ylabel('fruit supply') # set을 지워줌\n",
    "plt.title('Fruit supply by kind and color') # set을 지워줌\n",
    "plt.legend(title='Fruit color')\n",
    "\n",
    "plt.show()"
   ]
  }
 ],
 "metadata": {
  "kernelspec": {
   "display_name": "base",
   "language": "python",
   "name": "python3"
  },
  "language_info": {
   "codemirror_mode": {
    "name": "ipython",
    "version": 3
   },
   "file_extension": ".py",
   "mimetype": "text/x-python",
   "name": "python",
   "nbconvert_exporter": "python",
   "pygments_lexer": "ipython3",
   "version": "3.10.9"
  },
  "orig_nbformat": 4
 },
 "nbformat": 4,
 "nbformat_minor": 2
}
