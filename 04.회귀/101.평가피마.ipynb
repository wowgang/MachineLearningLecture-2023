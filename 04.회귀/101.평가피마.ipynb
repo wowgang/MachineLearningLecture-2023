{
 "cells": [
  {
   "cell_type": "code",
   "execution_count": 1,
   "metadata": {},
   "outputs": [],
   "source": [
    "# 피마 인디언 당뇨병 데이터세트를 이용하여 다음에 답하세요.\n",
    "\n",
    "# 1. 각 Feature의 최소값이 0, 최대값이 1이 되도록 MinMaxScaler를 사용하여\n",
    "#    변환하세요.(10)\n",
    "\n",
    "# 2. SVC, KNN, Logistic Regression을 소프트 보팅 방식으로 앙상블 학습을 하되,   SVC의 C 파라메터와 LR의 C 파라메터를 최적화해서 분류를 시도하세요.(20)\n",
    "\n",
    "# 3. 결정트리를 기반으로 하는 앙상블 학습기 3종류를 이용하여, 정확도 / 정밀도 /  \n",
    "#    재현율을 구하세요.(20)"
   ]
  },
  {
   "attachments": {},
   "cell_type": "markdown",
   "metadata": {},
   "source": [
    "> 1. 각 Feature의 최소값이 0, 최대값이 1이 되도록 MinMaxScaler를 사용하여\n",
    " 변환하세요.(10)"
   ]
  },
  {
   "cell_type": "code",
   "execution_count": 2,
   "metadata": {},
   "outputs": [],
   "source": [
    "import numpy as np\n",
    "import pandas as pd"
   ]
  },
  {
   "cell_type": "code",
   "execution_count": 3,
   "metadata": {},
   "outputs": [
    {
     "data": {
      "text/html": [
       "<div>\n",
       "<style scoped>\n",
       "    .dataframe tbody tr th:only-of-type {\n",
       "        vertical-align: middle;\n",
       "    }\n",
       "\n",
       "    .dataframe tbody tr th {\n",
       "        vertical-align: top;\n",
       "    }\n",
       "\n",
       "    .dataframe thead th {\n",
       "        text-align: right;\n",
       "    }\n",
       "</style>\n",
       "<table border=\"1\" class=\"dataframe\">\n",
       "  <thead>\n",
       "    <tr style=\"text-align: right;\">\n",
       "      <th></th>\n",
       "      <th>P</th>\n",
       "      <th>G</th>\n",
       "      <th>BP</th>\n",
       "      <th>S</th>\n",
       "      <th>I</th>\n",
       "      <th>BMI</th>\n",
       "      <th>D</th>\n",
       "      <th>Age</th>\n",
       "      <th>Target</th>\n",
       "    </tr>\n",
       "  </thead>\n",
       "  <tbody>\n",
       "    <tr>\n",
       "      <th>0</th>\n",
       "      <td>6</td>\n",
       "      <td>148</td>\n",
       "      <td>72</td>\n",
       "      <td>35</td>\n",
       "      <td>0</td>\n",
       "      <td>33.6</td>\n",
       "      <td>0.627</td>\n",
       "      <td>50</td>\n",
       "      <td>1</td>\n",
       "    </tr>\n",
       "    <tr>\n",
       "      <th>1</th>\n",
       "      <td>1</td>\n",
       "      <td>85</td>\n",
       "      <td>66</td>\n",
       "      <td>29</td>\n",
       "      <td>0</td>\n",
       "      <td>26.6</td>\n",
       "      <td>0.351</td>\n",
       "      <td>31</td>\n",
       "      <td>0</td>\n",
       "    </tr>\n",
       "    <tr>\n",
       "      <th>2</th>\n",
       "      <td>8</td>\n",
       "      <td>183</td>\n",
       "      <td>64</td>\n",
       "      <td>0</td>\n",
       "      <td>0</td>\n",
       "      <td>23.3</td>\n",
       "      <td>0.672</td>\n",
       "      <td>32</td>\n",
       "      <td>1</td>\n",
       "    </tr>\n",
       "    <tr>\n",
       "      <th>3</th>\n",
       "      <td>1</td>\n",
       "      <td>89</td>\n",
       "      <td>66</td>\n",
       "      <td>23</td>\n",
       "      <td>94</td>\n",
       "      <td>28.1</td>\n",
       "      <td>0.167</td>\n",
       "      <td>21</td>\n",
       "      <td>0</td>\n",
       "    </tr>\n",
       "    <tr>\n",
       "      <th>4</th>\n",
       "      <td>0</td>\n",
       "      <td>137</td>\n",
       "      <td>40</td>\n",
       "      <td>35</td>\n",
       "      <td>168</td>\n",
       "      <td>43.1</td>\n",
       "      <td>2.288</td>\n",
       "      <td>33</td>\n",
       "      <td>1</td>\n",
       "    </tr>\n",
       "  </tbody>\n",
       "</table>\n",
       "</div>"
      ],
      "text/plain": [
       "   P    G  BP   S    I   BMI      D  Age  Target\n",
       "0  6  148  72  35    0  33.6  0.627   50       1\n",
       "1  1   85  66  29    0  26.6  0.351   31       0\n",
       "2  8  183  64   0    0  23.3  0.672   32       1\n",
       "3  1   89  66  23   94  28.1  0.167   21       0\n",
       "4  0  137  40  35  168  43.1  2.288   33       1"
      ]
     },
     "execution_count": 3,
     "metadata": {},
     "output_type": "execute_result"
    }
   ],
   "source": [
    "df = pd.read_csv('../01.Intro/pima-indians-diabetes.csv' ,skiprows=9, header=None) \n",
    "df.columns = ['P', 'G', 'BP', 'S', 'I', 'BMI', 'D', 'Age', 'Target']\n",
    "df.head()"
   ]
  },
  {
   "cell_type": "code",
   "execution_count": 4,
   "metadata": {},
   "outputs": [
    {
     "data": {
      "text/plain": [
       "0"
      ]
     },
     "execution_count": 4,
     "metadata": {},
     "output_type": "execute_result"
    }
   ],
   "source": [
    "df.isna().sum().sum()"
   ]
  },
  {
   "cell_type": "code",
   "execution_count": 5,
   "metadata": {},
   "outputs": [],
   "source": [
    "X = df.iloc[:, :-1].values\n",
    "y = df.iloc[:, -1].values"
   ]
  },
  {
   "cell_type": "code",
   "execution_count": 6,
   "metadata": {},
   "outputs": [
    {
     "data": {
      "text/plain": [
       "((614, 8), (154, 8), (614,), (154,))"
      ]
     },
     "execution_count": 6,
     "metadata": {},
     "output_type": "execute_result"
    }
   ],
   "source": [
    "from sklearn.model_selection import train_test_split \n",
    "X_train, X_test, y_train, y_test = train_test_split(\n",
    "    X, y,stratify=y,\n",
    "    test_size=0.2,\n",
    "    random_state=2023\n",
    ")\n",
    "X_train.shape, X_test.shape, y_train.shape, y_test.shape"
   ]
  },
  {
   "cell_type": "code",
   "execution_count": 7,
   "metadata": {},
   "outputs": [],
   "source": [
    "from sklearn.preprocessing import MinMaxScaler \n",
    "X_mm = MinMaxScaler().fit_transform(X)"
   ]
  },
  {
   "attachments": {},
   "cell_type": "markdown",
   "metadata": {},
   "source": [
    ">2. SVC, KNN, Logistic Regression을 소프트 보팅 방식으로 앙상블 학습을 하되,   SVC의 C 파라메터와 LR의 C 파라메터를 최적화해서 분류를 시도하세요.(20)"
   ]
  },
  {
   "cell_type": "code",
   "execution_count": 8,
   "metadata": {},
   "outputs": [],
   "source": [
    "from sklearn.preprocessing import StandardScaler \n",
    "X_std = StandardScaler().fit_transform(X)\n",
    "\n",
    "X_train, X_test, y_train, y_test = train_test_split(\n",
    "    X_std, y, stratify=y, test_size=0.2, random_state=2023\n",
    ")"
   ]
  },
  {
   "cell_type": "code",
   "execution_count": 9,
   "metadata": {},
   "outputs": [],
   "source": [
    "from sklearn.svm import SVC \n",
    "svc = SVC(probability=True,random_state=2023)"
   ]
  },
  {
   "cell_type": "code",
   "execution_count": 10,
   "metadata": {},
   "outputs": [],
   "source": [
    "from sklearn.linear_model import LogisticRegression \n",
    "lrc = LogisticRegression(random_state=2023)"
   ]
  },
  {
   "cell_type": "code",
   "execution_count": 11,
   "metadata": {},
   "outputs": [],
   "source": [
    "from sklearn.neighbors import KNeighborsClassifier\n",
    "knn = KNeighborsClassifier()"
   ]
  },
  {
   "cell_type": "code",
   "execution_count": 15,
   "metadata": {},
   "outputs": [
    {
     "data": {
      "text/plain": [
       "array([[0.8, 0.2],\n",
       "       [0.4, 0.6],\n",
       "       [0.4, 0.6],\n",
       "       [0.4, 0.6],\n",
       "       [0.6, 0.4],\n",
       "       [1. , 0. ],\n",
       "       [0.8, 0.2],\n",
       "       [0.4, 0.6],\n",
       "       [0. , 1. ],\n",
       "       [1. , 0. ],\n",
       "       [1. , 0. ],\n",
       "       [0.6, 0.4],\n",
       "       [0.4, 0.6],\n",
       "       [0.8, 0.2],\n",
       "       [0.2, 0.8],\n",
       "       [0.8, 0.2],\n",
       "       [0.4, 0.6],\n",
       "       [0.6, 0.4],\n",
       "       [0.6, 0.4],\n",
       "       [0.6, 0.4],\n",
       "       [1. , 0. ],\n",
       "       [0.6, 0.4],\n",
       "       [0.4, 0.6],\n",
       "       [0.4, 0.6],\n",
       "       [1. , 0. ],\n",
       "       [0.4, 0.6],\n",
       "       [0.8, 0.2],\n",
       "       [0. , 1. ],\n",
       "       [0.2, 0.8],\n",
       "       [0.6, 0.4],\n",
       "       [1. , 0. ],\n",
       "       [0.8, 0.2],\n",
       "       [0.6, 0.4],\n",
       "       [1. , 0. ],\n",
       "       [0.8, 0.2],\n",
       "       [0.2, 0.8],\n",
       "       [0.6, 0.4],\n",
       "       [0.6, 0.4],\n",
       "       [0.8, 0.2],\n",
       "       [0.2, 0.8],\n",
       "       [1. , 0. ],\n",
       "       [0.2, 0.8],\n",
       "       [0.6, 0.4],\n",
       "       [0.2, 0.8],\n",
       "       [1. , 0. ],\n",
       "       [0.2, 0.8],\n",
       "       [1. , 0. ],\n",
       "       [0.4, 0.6],\n",
       "       [0.4, 0.6],\n",
       "       [0.8, 0.2],\n",
       "       [0.2, 0.8],\n",
       "       [0.2, 0.8],\n",
       "       [0.2, 0.8],\n",
       "       [1. , 0. ],\n",
       "       [1. , 0. ],\n",
       "       [0. , 1. ],\n",
       "       [0.2, 0.8],\n",
       "       [1. , 0. ],\n",
       "       [0.6, 0.4],\n",
       "       [0.8, 0.2],\n",
       "       [1. , 0. ],\n",
       "       [0.8, 0.2],\n",
       "       [1. , 0. ],\n",
       "       [1. , 0. ],\n",
       "       [0. , 1. ],\n",
       "       [0.6, 0.4],\n",
       "       [0.4, 0.6],\n",
       "       [0.8, 0.2],\n",
       "       [1. , 0. ],\n",
       "       [1. , 0. ],\n",
       "       [1. , 0. ],\n",
       "       [1. , 0. ],\n",
       "       [0.8, 0.2],\n",
       "       [0.8, 0.2],\n",
       "       [0.8, 0.2],\n",
       "       [0. , 1. ],\n",
       "       [0.6, 0.4],\n",
       "       [1. , 0. ],\n",
       "       [0.6, 0.4],\n",
       "       [0.8, 0.2],\n",
       "       [1. , 0. ],\n",
       "       [0.6, 0.4],\n",
       "       [0.4, 0.6],\n",
       "       [0.2, 0.8],\n",
       "       [0.4, 0.6],\n",
       "       [0.8, 0.2],\n",
       "       [0.4, 0.6],\n",
       "       [0. , 1. ],\n",
       "       [1. , 0. ],\n",
       "       [0.8, 0.2],\n",
       "       [1. , 0. ],\n",
       "       [0.8, 0.2],\n",
       "       [0.6, 0.4],\n",
       "       [0.8, 0.2],\n",
       "       [0.6, 0.4],\n",
       "       [0.6, 0.4],\n",
       "       [0.4, 0.6],\n",
       "       [1. , 0. ],\n",
       "       [0.8, 0.2],\n",
       "       [0.4, 0.6],\n",
       "       [0.2, 0.8],\n",
       "       [1. , 0. ],\n",
       "       [1. , 0. ],\n",
       "       [0.6, 0.4],\n",
       "       [0.2, 0.8],\n",
       "       [0.8, 0.2],\n",
       "       [1. , 0. ],\n",
       "       [1. , 0. ],\n",
       "       [1. , 0. ],\n",
       "       [1. , 0. ],\n",
       "       [0.8, 0.2],\n",
       "       [0.8, 0.2],\n",
       "       [0.2, 0.8],\n",
       "       [0.6, 0.4],\n",
       "       [0.4, 0.6],\n",
       "       [0.8, 0.2],\n",
       "       [0.8, 0.2],\n",
       "       [1. , 0. ],\n",
       "       [1. , 0. ],\n",
       "       [1. , 0. ],\n",
       "       [0.8, 0.2],\n",
       "       [1. , 0. ],\n",
       "       [0.4, 0.6],\n",
       "       [0.8, 0.2],\n",
       "       [1. , 0. ],\n",
       "       [0.8, 0.2],\n",
       "       [0.4, 0.6],\n",
       "       [0.6, 0.4],\n",
       "       [1. , 0. ],\n",
       "       [1. , 0. ],\n",
       "       [0.2, 0.8],\n",
       "       [0.2, 0.8],\n",
       "       [0.6, 0.4],\n",
       "       [1. , 0. ],\n",
       "       [0.2, 0.8],\n",
       "       [0.4, 0.6],\n",
       "       [0.6, 0.4],\n",
       "       [1. , 0. ],\n",
       "       [1. , 0. ],\n",
       "       [1. , 0. ],\n",
       "       [0. , 1. ],\n",
       "       [0.6, 0.4],\n",
       "       [0.6, 0.4],\n",
       "       [0.6, 0.4],\n",
       "       [1. , 0. ],\n",
       "       [0.4, 0.6],\n",
       "       [0.6, 0.4],\n",
       "       [0.6, 0.4],\n",
       "       [0.6, 0.4],\n",
       "       [0.8, 0.2],\n",
       "       [0.6, 0.4],\n",
       "       [0.8, 0.2],\n",
       "       [0. , 1. ],\n",
       "       [0.4, 0.6]])"
      ]
     },
     "execution_count": 15,
     "metadata": {},
     "output_type": "execute_result"
    }
   ],
   "source": [
    "svc.fit(X_train, y_train)\n",
    "svc.predict_proba(X_test)\n",
    "\n",
    "lrc.fit(X_train, y_train)\n",
    "lrc.predict_proba(X_test)\n",
    "\n",
    "knn.fit(X_train, y_train)\n",
    "knn.predict_proba(X_test)"
   ]
  },
  {
   "cell_type": "code",
   "execution_count": 16,
   "metadata": {},
   "outputs": [],
   "source": [
    "params = {\n",
    "    'LRC__C': [0.1, 1, 10],\n",
    "    'SVC__C': [0.1, 1, 10]\n",
    "}"
   ]
  },
  {
   "cell_type": "code",
   "execution_count": 17,
   "metadata": {},
   "outputs": [],
   "source": [
    "from sklearn.ensemble import VotingClassifier\n",
    "voc = VotingClassifier(\n",
    "    estimators=[('LRC', lrc), ('SVC', svc), ('KNN', knn)],\n",
    "    voting='soft'\n",
    ")"
   ]
  },
  {
   "cell_type": "code",
   "execution_count": 18,
   "metadata": {},
   "outputs": [
    {
     "data": {
      "text/plain": [
       "{'LRC__C': 0.1, 'SVC__C': 1}"
      ]
     },
     "execution_count": 18,
     "metadata": {},
     "output_type": "execute_result"
    }
   ],
   "source": [
    "from sklearn.model_selection import GridSearchCV \n",
    "grid_voc = GridSearchCV(voc, params, scoring='accuracy', cv=5)\n",
    "grid_voc.fit(X_train, y_train)\n",
    "grid_voc.best_params_"
   ]
  },
  {
   "cell_type": "code",
   "execution_count": 19,
   "metadata": {},
   "outputs": [
    {
     "data": {
      "text/plain": [
       "0.7792207792207793"
      ]
     },
     "execution_count": 19,
     "metadata": {},
     "output_type": "execute_result"
    }
   ],
   "source": [
    "grid_voc.best_estimator_.score(X_test, y_test)"
   ]
  },
  {
   "attachments": {},
   "cell_type": "markdown",
   "metadata": {},
   "source": [
    "> 3. 결정트리를 기반으로 하는 앙상블 학습기 3종류를 이용하여, 정확도 / 정밀도 /  \n",
    "  재현율을 구하세요.(20)"
   ]
  },
  {
   "cell_type": "code",
   "execution_count": 30,
   "metadata": {},
   "outputs": [],
   "source": [
    "# 정확도(accuracy) 비교 \n",
    "from sklearn.metrics import accuracy_score\n",
    "# accuracy_score(y_test)\n",
    "from sklearn.metrics import precision_score, recall_score\n",
    "# 정밀도, 재현율\n",
    "# precision_score(y_test)\n",
    "# 재현율(recall)\n",
    "# recall_score(y_test)"
   ]
  },
  {
   "cell_type": "code",
   "execution_count": 32,
   "metadata": {},
   "outputs": [],
   "source": [
    "from sklearn.tree import DecisionTreeClassifier\n",
    "dtc = DecisionTreeClassifier(random_state=156)\n",
    "dtc.fit(X_train, y_train)\n",
    "dtc_pred = dtc.predict(X_test)\n",
    "acc_dtc = accuracy_score(y_test, dtc_pred)\n",
    "prec_dtc = precision_score(y_test, dtc_pred)\n",
    "reca_dtc = recall_score(y_test, dtc_pred)"
   ]
  },
  {
   "cell_type": "code",
   "execution_count": 33,
   "metadata": {},
   "outputs": [],
   "source": [
    "from sklearn.ensemble import RandomForestClassifier \n",
    "rfc = RandomForestClassifier(random_state=2023)\n",
    "rfc.fit(X_train, y_train)\n",
    "rfc_pred = rfc.predict(X_test)\n",
    "acc_rfc = accuracy_score(y_test, rfc_pred)\n",
    "prec_rfc = precision_score(y_test, rfc_pred)\n",
    "reca_rfc = recall_score(y_test, rfc_pred)"
   ]
  },
  {
   "cell_type": "code",
   "execution_count": 36,
   "metadata": {},
   "outputs": [],
   "source": [
    "from xgboost import XGBClassifier\n",
    "xgb = XGBClassifier()\n",
    "xgb.fit(X_train, y_train)\n",
    "pred_xgb = xgb.predict(X_test)\n",
    "acc_xgb = accuracy_score(y_test, pred_xgb)\n",
    "prec_xgb = precision_score(y_test, pred_xgb)\n",
    "reca_xgb = recall_score(y_test, pred_xgb)"
   ]
  },
  {
   "cell_type": "code",
   "execution_count": 39,
   "metadata": {},
   "outputs": [
    {
     "name": "stdout",
     "output_type": "stream",
     "text": [
      "[1]\tvalid_0's binary_logloss: 0.615506\n",
      "[2]\tvalid_0's binary_logloss: 0.5971\n",
      "[3]\tvalid_0's binary_logloss: 0.578737\n",
      "[4]\tvalid_0's binary_logloss: 0.563357\n",
      "[5]\tvalid_0's binary_logloss: 0.547289\n",
      "[6]\tvalid_0's binary_logloss: 0.536826\n",
      "[7]\tvalid_0's binary_logloss: 0.526478\n",
      "[8]\tvalid_0's binary_logloss: 0.5196\n",
      "[9]\tvalid_0's binary_logloss: 0.509382\n",
      "[10]\tvalid_0's binary_logloss: 0.502299\n",
      "[11]\tvalid_0's binary_logloss: 0.499422\n",
      "[12]\tvalid_0's binary_logloss: 0.49336\n",
      "[13]\tvalid_0's binary_logloss: 0.48997\n",
      "[14]\tvalid_0's binary_logloss: 0.489997\n",
      "[15]\tvalid_0's binary_logloss: 0.489147\n",
      "[16]\tvalid_0's binary_logloss: 0.488191\n",
      "[17]\tvalid_0's binary_logloss: 0.488111\n",
      "[18]\tvalid_0's binary_logloss: 0.488663\n",
      "[19]\tvalid_0's binary_logloss: 0.486831\n",
      "[20]\tvalid_0's binary_logloss: 0.485895\n",
      "[21]\tvalid_0's binary_logloss: 0.486498\n",
      "[22]\tvalid_0's binary_logloss: 0.486552\n",
      "[23]\tvalid_0's binary_logloss: 0.489444\n",
      "[24]\tvalid_0's binary_logloss: 0.489001\n",
      "[25]\tvalid_0's binary_logloss: 0.487257\n",
      "[26]\tvalid_0's binary_logloss: 0.48649\n",
      "[27]\tvalid_0's binary_logloss: 0.48847\n",
      "[28]\tvalid_0's binary_logloss: 0.489541\n",
      "[29]\tvalid_0's binary_logloss: 0.490324\n",
      "[30]\tvalid_0's binary_logloss: 0.493912\n",
      "[31]\tvalid_0's binary_logloss: 0.494705\n",
      "[32]\tvalid_0's binary_logloss: 0.495311\n",
      "[33]\tvalid_0's binary_logloss: 0.494954\n",
      "[34]\tvalid_0's binary_logloss: 0.495417\n",
      "[35]\tvalid_0's binary_logloss: 0.496721\n",
      "[36]\tvalid_0's binary_logloss: 0.500878\n",
      "[37]\tvalid_0's binary_logloss: 0.502091\n",
      "[38]\tvalid_0's binary_logloss: 0.50579\n",
      "[39]\tvalid_0's binary_logloss: 0.510082\n",
      "[40]\tvalid_0's binary_logloss: 0.512586\n",
      "[41]\tvalid_0's binary_logloss: 0.514559\n",
      "[42]\tvalid_0's binary_logloss: 0.516289\n",
      "[43]\tvalid_0's binary_logloss: 0.519002\n",
      "[44]\tvalid_0's binary_logloss: 0.518242\n",
      "[45]\tvalid_0's binary_logloss: 0.519421\n",
      "[46]\tvalid_0's binary_logloss: 0.52457\n",
      "[47]\tvalid_0's binary_logloss: 0.526539\n",
      "[48]\tvalid_0's binary_logloss: 0.53039\n",
      "[49]\tvalid_0's binary_logloss: 0.530555\n",
      "[50]\tvalid_0's binary_logloss: 0.529441\n",
      "[51]\tvalid_0's binary_logloss: 0.533307\n",
      "[52]\tvalid_0's binary_logloss: 0.534392\n",
      "[53]\tvalid_0's binary_logloss: 0.536525\n",
      "[54]\tvalid_0's binary_logloss: 0.536701\n",
      "[55]\tvalid_0's binary_logloss: 0.539589\n",
      "[56]\tvalid_0's binary_logloss: 0.540676\n",
      "[57]\tvalid_0's binary_logloss: 0.542245\n",
      "[58]\tvalid_0's binary_logloss: 0.543982\n",
      "[59]\tvalid_0's binary_logloss: 0.547611\n",
      "[60]\tvalid_0's binary_logloss: 0.549852\n",
      "[61]\tvalid_0's binary_logloss: 0.551982\n",
      "[62]\tvalid_0's binary_logloss: 0.554331\n",
      "[63]\tvalid_0's binary_logloss: 0.556953\n",
      "[64]\tvalid_0's binary_logloss: 0.560301\n",
      "[65]\tvalid_0's binary_logloss: 0.563599\n",
      "[66]\tvalid_0's binary_logloss: 0.561126\n",
      "[67]\tvalid_0's binary_logloss: 0.564023\n",
      "[68]\tvalid_0's binary_logloss: 0.563165\n",
      "[69]\tvalid_0's binary_logloss: 0.56642\n",
      "[70]\tvalid_0's binary_logloss: 0.565345\n",
      "[71]\tvalid_0's binary_logloss: 0.570402\n",
      "[72]\tvalid_0's binary_logloss: 0.57444\n",
      "[73]\tvalid_0's binary_logloss: 0.576695\n",
      "[74]\tvalid_0's binary_logloss: 0.580703\n",
      "[75]\tvalid_0's binary_logloss: 0.581957\n",
      "[76]\tvalid_0's binary_logloss: 0.584001\n",
      "[77]\tvalid_0's binary_logloss: 0.587944\n",
      "[78]\tvalid_0's binary_logloss: 0.591669\n",
      "[79]\tvalid_0's binary_logloss: 0.593044\n",
      "[80]\tvalid_0's binary_logloss: 0.593611\n",
      "[81]\tvalid_0's binary_logloss: 0.594717\n",
      "[82]\tvalid_0's binary_logloss: 0.598727\n",
      "[83]\tvalid_0's binary_logloss: 0.603737\n",
      "[84]\tvalid_0's binary_logloss: 0.604265\n",
      "[85]\tvalid_0's binary_logloss: 0.609364\n",
      "[86]\tvalid_0's binary_logloss: 0.609854\n",
      "[87]\tvalid_0's binary_logloss: 0.617266\n",
      "[88]\tvalid_0's binary_logloss: 0.623353\n",
      "[89]\tvalid_0's binary_logloss: 0.624979\n",
      "[90]\tvalid_0's binary_logloss: 0.62719\n",
      "[91]\tvalid_0's binary_logloss: 0.628424\n",
      "[92]\tvalid_0's binary_logloss: 0.630598\n",
      "[93]\tvalid_0's binary_logloss: 0.633639\n",
      "[94]\tvalid_0's binary_logloss: 0.634996\n",
      "[95]\tvalid_0's binary_logloss: 0.640619\n",
      "[96]\tvalid_0's binary_logloss: 0.645453\n",
      "[97]\tvalid_0's binary_logloss: 0.645133\n",
      "[98]\tvalid_0's binary_logloss: 0.647848\n",
      "[99]\tvalid_0's binary_logloss: 0.649713\n",
      "[100]\tvalid_0's binary_logloss: 0.655689\n"
     ]
    },
    {
     "name": "stderr",
     "output_type": "stream",
     "text": [
      "c:\\Users\\YONSAI\\anaconda3\\lib\\site-packages\\lightgbm\\sklearn.py:736: UserWarning: 'verbose' argument is deprecated and will be removed in a future release of LightGBM. Pass 'log_evaluation()' callback via 'callbacks' argument instead.\n",
      "  _log_warning(\"'verbose' argument is deprecated and will be removed in a future release of LightGBM. \"\n"
     ]
    }
   ],
   "source": [
    "from lightgbm import LGBMClassifier \n",
    "lgb = LGBMClassifier()\n",
    "evals = [(X_test, y_test)]\n",
    "lgb.fit(X_train, y_train, eval_set=evals, eval_metric='logloss', verbose=True)\n",
    "pred_lgb = lgb.predict(X_test)\n",
    "acc_lgb = accuracy_score(y_test, pred_lgb)\n",
    "prec_lgb = precision_score(y_test, pred_lgb)\n",
    "reca_lgb = recall_score(y_test, pred_lgb)"
   ]
  },
  {
   "cell_type": "code",
   "execution_count": 42,
   "metadata": {},
   "outputs": [
    {
     "name": "stdout",
     "output_type": "stream",
     "text": [
      "dtc -> 정확도:0.7468, 정밀도:0.6364, 재현율:0.6481\n",
      "rfc -> 정확도:0.7532, 정밀도:0.6600, 재현율:0.6111\n",
      "xgb -> 정확도:0.7403, 정밀도:0.6458, 재현율:0.5741\n",
      "lgb -> 정확도:0.7143, 정밀도:0.6000, 재현율:0.5556\n"
     ]
    }
   ],
   "source": [
    "# print(f'dtc -> 정확도:{acc_dtc:.4f}, 정밀도:{prec_dtc:.4f}, 재현율:{reca_dtc:.4f}')\n",
    "print(f'rfc -> 정확도:{acc_rfc:.4f}, 정밀도:{prec_rfc:.4f}, 재현율:{reca_rfc:.4f}')\n",
    "print(f'xgb -> 정확도:{acc_xgb:.4f}, 정밀도:{prec_xgb:.4f}, 재현율:{reca_xgb:.4f}')\n",
    "print(f'lgb -> 정확도:{acc_lgb:.4f}, 정밀도:{prec_lgb:.4f}, 재현율:{reca_lgb:.4f}')"
   ]
  },
  {
   "cell_type": "code",
   "execution_count": null,
   "metadata": {},
   "outputs": [],
   "source": []
  }
 ],
 "metadata": {
  "kernelspec": {
   "display_name": "base",
   "language": "python",
   "name": "python3"
  },
  "language_info": {
   "codemirror_mode": {
    "name": "ipython",
    "version": 3
   },
   "file_extension": ".py",
   "mimetype": "text/x-python",
   "name": "python",
   "nbconvert_exporter": "python",
   "pygments_lexer": "ipython3",
   "version": "3.10.9"
  },
  "orig_nbformat": 4
 },
 "nbformat": 4,
 "nbformat_minor": 2
}
