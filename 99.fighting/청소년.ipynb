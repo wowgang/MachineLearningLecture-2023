{
 "cells": [
  {
   "cell_type": "code",
   "execution_count": 2,
   "metadata": {},
   "outputs": [],
   "source": [
    "import pandas as pd\n",
    "import numpy as np\n",
    "import matplotlib as mpl\n",
    "import matplotlib.pyplot as plt\n",
    "import seaborn as sns\n",
    "import wordcloud\n",
    "import bar_chart_race as bcr\n",
    "import warnings\n",
    "warnings.filterwarnings(\"ignore\")"
   ]
  },
  {
   "cell_type": "code",
   "execution_count": 5,
   "metadata": {},
   "outputs": [
    {
     "data": {
      "text/html": [
       "<div>\n",
       "<style scoped>\n",
       "    .dataframe tbody tr th:only-of-type {\n",
       "        vertical-align: middle;\n",
       "    }\n",
       "\n",
       "    .dataframe tbody tr th {\n",
       "        vertical-align: top;\n",
       "    }\n",
       "\n",
       "    .dataframe thead th {\n",
       "        text-align: right;\n",
       "    }\n",
       "</style>\n",
       "<table border=\"1\" class=\"dataframe\">\n",
       "  <thead>\n",
       "    <tr style=\"text-align: right;\">\n",
       "      <th></th>\n",
       "      <th>sn</th>\n",
       "      <th>base_ym</th>\n",
       "      <th>search_rank_nm</th>\n",
       "      <th>srchwrd_nm</th>\n",
       "      <th>views_co</th>\n",
       "      <th>pt_value</th>\n",
       "    </tr>\n",
       "  </thead>\n",
       "  <tbody>\n",
       "    <tr>\n",
       "      <th>0</th>\n",
       "      <td>1</td>\n",
       "      <td>201901</td>\n",
       "      <td>1</td>\n",
       "      <td>친구</td>\n",
       "      <td>69</td>\n",
       "      <td>24.21</td>\n",
       "    </tr>\n",
       "    <tr>\n",
       "      <th>1</th>\n",
       "      <td>2</td>\n",
       "      <td>201901</td>\n",
       "      <td>2</td>\n",
       "      <td>전학</td>\n",
       "      <td>20</td>\n",
       "      <td>7.02</td>\n",
       "    </tr>\n",
       "    <tr>\n",
       "      <th>2</th>\n",
       "      <td>3</td>\n",
       "      <td>201901</td>\n",
       "      <td>3</td>\n",
       "      <td>공부</td>\n",
       "      <td>15</td>\n",
       "      <td>5.26</td>\n",
       "    </tr>\n",
       "    <tr>\n",
       "      <th>3</th>\n",
       "      <td>4</td>\n",
       "      <td>201901</td>\n",
       "      <td>4</td>\n",
       "      <td>숨쉬기</td>\n",
       "      <td>13</td>\n",
       "      <td>4.56</td>\n",
       "    </tr>\n",
       "    <tr>\n",
       "      <th>4</th>\n",
       "      <td>5</td>\n",
       "      <td>201901</td>\n",
       "      <td>5</td>\n",
       "      <td>학원</td>\n",
       "      <td>11</td>\n",
       "      <td>3.86</td>\n",
       "    </tr>\n",
       "  </tbody>\n",
       "</table>\n",
       "</div>"
      ],
      "text/plain": [
       "   sn  base_ym  search_rank_nm srchwrd_nm  views_co  pt_value\n",
       "0   1   201901               1         친구        69     24.21\n",
       "1   2   201901               2         전학        20      7.02\n",
       "2   3   201901               3         공부        15      5.26\n",
       "3   4   201901               4        숨쉬기        13      4.56\n",
       "4   5   201901               5         학원        11      3.86"
      ]
     },
     "execution_count": 5,
     "metadata": {},
     "output_type": "execute_result"
    }
   ],
   "source": [
    "data = pd.read_csv('./data/ky_yngbgs_worry_rank_info_202012.csv')\n",
    "data.head()"
   ]
  },
  {
   "cell_type": "code",
   "execution_count": null,
   "metadata": {},
   "outputs": [],
   "source": [
    "# base_ym : 기준연월\n",
    "# search_rank_nm : 검색순위명\n",
    "# srchwrd_nm : 키워드\n",
    "# viewss_co : 조회수"
   ]
  },
  {
   "cell_type": "code",
   "execution_count": 9,
   "metadata": {},
   "outputs": [
    {
     "name": "stdout",
     "output_type": "stream",
     "text": [
      "201901부터 202011까지 수집한 데이터 입니다.\n",
      "총 조회수는 8158회입니다.\n"
     ]
    }
   ],
   "source": [
    "# 데이터의 전체 기간\n",
    "st, ed = data['base_ym'].min(), data['base_ym'].max()\n",
    "print(f\"{st}부터 {ed}까지 수집한 데이터 입니다.\")\n",
    "\n",
    "# 고민 전체 조회수\n",
    "total_views = data['views_co'].sum()\n",
    "print(f\"총 조회수는 {total_views}회입니다.\")"
   ]
  }
 ],
 "metadata": {
  "kernelspec": {
   "display_name": "base",
   "language": "python",
   "name": "python3"
  },
  "language_info": {
   "codemirror_mode": {
    "name": "ipython",
    "version": 3
   },
   "file_extension": ".py",
   "mimetype": "text/x-python",
   "name": "python",
   "nbconvert_exporter": "python",
   "pygments_lexer": "ipython3",
   "version": "3.10.9"
  },
  "orig_nbformat": 4
 },
 "nbformat": 4,
 "nbformat_minor": 2
}
