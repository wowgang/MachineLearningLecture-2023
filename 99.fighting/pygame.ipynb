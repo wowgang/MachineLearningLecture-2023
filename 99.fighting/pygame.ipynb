{
 "cells": [
  {
   "cell_type": "code",
   "execution_count": 3,
   "metadata": {},
   "outputs": [
    {
     "name": "stdout",
     "output_type": "stream",
     "text": [
      "pygame 2.4.0 (SDL 2.26.4, Python 3.10.9)\n",
      "Hello from the pygame community. https://www.pygame.org/contribute.html\n"
     ]
    }
   ],
   "source": [
    "import pygame"
   ]
  },
  {
   "cell_type": "code",
   "execution_count": 14,
   "metadata": {},
   "outputs": [],
   "source": [
    "# 1.게임 초기화\n",
    "pygame.init()\n",
    "#2. 게임창 옵션 설정\n",
    "size = [400, 900] # 가로,세로\n",
    "screen = pygame.display.set_mode(size) # 그림 집어넣을 예정\n",
    "\n",
    "title = \"My Game\"\n",
    "pygame.display.set_caption(title) # 제목 옵션\n",
    "\n",
    "#3. 게임 내 필요한 설정\n",
    "clock = pygame.time.Clock()\n",
    "\n",
    "ss = pygame.image.load(\"D:/temp/ss.png\").convert_alpha() # 이미지\n",
    "ss = pygame.transform.scale(ss, (50,80))\n",
    "ss_sx, ss_sy = ss.get_size() # 이미지 크기\n",
    "ss_x = round(size[0]/2) - round(ss_sx/2) # 이미지 위치\n",
    "ss_y = size[1] -ss_sy - 15  # 이미지 위치\n",
    "\n",
    "\n",
    "black = (0,0,0) # rgb 검정색\n",
    "white = (255,255,255) # rgb 흰색\n",
    "k = 0\n",
    "\n",
    "#4. 메인 이벤트\n",
    "SB = 0\n",
    "while SB == 0:\n",
    "\n",
    "    #4-1. FPS 설정\n",
    "    clock.tick(60) # 1초에 60번 while문이 돌게 해달라\n",
    "\n",
    "    #4-2. 각종 입력 감지\n",
    "    for event in pygame.event.get():\n",
    "        if event.type == pygame.QUIT:\n",
    "            SB = 1\n",
    "\n",
    "    #4-3. 입력 시간에 따른 변화\n",
    "    k += 1\n",
    "\n",
    "    #4-4. 그리기\n",
    "    screen.fill(black) # 검은화면\n",
    "    screen.blit(ss, (ss_x,ss_y))\n",
    "\n",
    "    #4-5. 업데이트\n",
    "    pygame.display.flip()\n",
    "\n",
    "#5. 게임 종료\n",
    "pygame.quit()\n",
    "\n"
   ]
  },
  {
   "cell_type": "code",
   "execution_count": null,
   "metadata": {},
   "outputs": [],
   "source": []
  }
 ],
 "metadata": {
  "kernelspec": {
   "display_name": "base",
   "language": "python",
   "name": "python3"
  },
  "language_info": {
   "codemirror_mode": {
    "name": "ipython",
    "version": 3
   },
   "file_extension": ".py",
   "mimetype": "text/x-python",
   "name": "python",
   "nbconvert_exporter": "python",
   "pygments_lexer": "ipython3",
   "version": "3.10.9"
  },
  "orig_nbformat": 4
 },
 "nbformat": 4,
 "nbformat_minor": 2
}
