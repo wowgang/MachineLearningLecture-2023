{
 "cells": [
  {
   "cell_type": "code",
   "execution_count": 1,
   "metadata": {},
   "outputs": [],
   "source": [
    "\"\"\"Map letters from string into dictionary & print bar chart of frequency.\"\"\"\n",
    "\"\"\"문자열의 문자를 사전으로 매핑하고 빈도 막대 차트를 인쇄합니다.\"\"\"\n",
    "import sys\n",
    "import pprint\n",
    "from collections import defaultdict"
   ]
  },
  {
   "cell_type": "code",
   "execution_count": 2,
   "metadata": {},
   "outputs": [],
   "source": [
    "# 참고: IDLE 창에 맞도록 텍스트는 짧은 문구여야 합니다.\n",
    "text = 'Like the castle in its corner in a medieval game, I foresee terrible \\\n",
    "trouble and I stay here just the same.'\n",
    "\n",
    "ALPHABET = 'abcdefghijklmnopqrstuvwxyz'"
   ]
  },
  {
   "cell_type": "code",
   "execution_count": 3,
   "metadata": {},
   "outputs": [],
   "source": [
    "# defaultdict 모듈을 사용하면 즉시 사전 키를 빌드할 수 있습니다!\n",
    "mapped = defaultdict(list)\n",
    "for character in text:\n",
    "    character = character.lower()\n",
    "    if character in ALPHABET:\n",
    "        mapped[character].append(character)"
   ]
  },
  {
   "cell_type": "code",
   "execution_count": 4,
   "metadata": {},
   "outputs": [
    {
     "name": "stdout",
     "output_type": "stream",
     "text": [
      "\n",
      "You may need to stretch console window if text wrapping occurs.\n",
      "\n",
      "text = defaultdict(<class 'list'>,\n",
      "            {'a': ['a', 'a', 'a', 'a', 'a', 'a', 'a'],\n",
      "             'b': ['b', 'b'],\n",
      "             'c': ['c', 'c'],\n",
      "             'd': ['d', 'd'],\n",
      "             'e': ['e', 'e', 'e', 'e', 'e', 'e', 'e', 'e', 'e', 'e', 'e', 'e', 'e', 'e', 'e', 'e', 'e'],\n",
      "             'f': ['f'],\n",
      "             'g': ['g'],\n",
      "             'h': ['h', 'h', 'h'],\n",
      "             'i': ['i', 'i', 'i', 'i', 'i', 'i', 'i', 'i'],\n",
      "             'j': ['j'],\n",
      "             'k': ['k'],\n",
      "             'l': ['l', 'l', 'l', 'l', 'l'],\n",
      "             'm': ['m', 'm', 'm'],\n",
      "             'n': ['n', 'n', 'n', 'n'],\n",
      "             'o': ['o', 'o', 'o'],\n",
      "             'r': ['r', 'r', 'r', 'r', 'r', 'r', 'r'],\n",
      "             's': ['s', 's', 's', 's', 's', 's'],\n",
      "             't': ['t', 't', 't', 't', 't', 't', 't', 't'],\n",
      "             'u': ['u', 'u'],\n",
      "             'v': ['v'],\n",
      "             'y': ['y']})\n"
     ]
    },
    {
     "name": "stderr",
     "output_type": "stream",
     "text": [
      "Like the castle in its corner in a medieval game, I foresee terrible trouble and I stay here just the same.\n",
      "\n"
     ]
    }
   ],
   "source": [
    "# pprint를 사용하면 쌓인 출력물을 인쇄할 수 있습니다.\n",
    "print(\"\\nYou may need to stretch console window if text wrapping occurs.\\n\")\n",
    "print(\"text = \", end='')\n",
    "print(\"{}\\n\".format(text), file=sys.stderr)\n",
    "pprint.pprint(mapped, width=110)\n"
   ]
  }
 ],
 "metadata": {
  "kernelspec": {
   "display_name": "base",
   "language": "python",
   "name": "python3"
  },
  "language_info": {
   "codemirror_mode": {
    "name": "ipython",
    "version": 3
   },
   "file_extension": ".py",
   "mimetype": "text/x-python",
   "name": "python",
   "nbconvert_exporter": "python",
   "pygments_lexer": "ipython3",
   "version": "3.10.9"
  },
  "orig_nbformat": 4
 },
 "nbformat": 4,
 "nbformat_minor": 2
}
